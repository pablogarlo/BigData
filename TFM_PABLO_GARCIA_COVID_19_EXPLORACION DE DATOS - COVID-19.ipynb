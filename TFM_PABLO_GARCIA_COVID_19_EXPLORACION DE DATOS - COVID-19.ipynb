{
 "cells": [
  {
   "cell_type": "markdown",
   "metadata": {},
   "source": [
    " \n",
    "   # EXPLORACIÓN DE LOS DATOS"
   ]
  },
  {
   "cell_type": "markdown",
   "metadata": {},
   "source": [
    "## DATOS DE CASOS POR EDADES - FICHERO TIMEAGE.CSV"
   ]
  },
  {
   "cell_type": "markdown",
   "metadata": {},
   "source": [
    "### ESTADÍSTICAS BÁSICAS"
   ]
  },
  {
   "cell_type": "code",
   "execution_count": 1,
   "metadata": {},
   "outputs": [
    {
     "ename": "ERROR",
     "evalue": "Error in parse(text = x, srcfile = src): <text>:5:10: unexpected symbol\n4: #install.packages(\"ggplot2\")\n5: Cargamos la\n            ^\n",
     "output_type": "error",
     "traceback": [
      "Error in parse(text = x, srcfile = src): <text>:5:10: unexpected symbol\n4: #install.packages(\"ggplot2\")\n5: Cargamos la\n            ^\nTraceback:\n"
     ]
    }
   ],
   "source": [
    "# Cargamos la librería dplyr\n",
    "library(dplyr)\n",
    "# Instalación del paquete ggplot2. Una vez ha sido instalado, lo dejamos comentado\n",
    "#install.packages(\"ggplot2\")\n",
    "Cargamos la librería ggplot2\n",
    "library(ggplot2)"
   ]
  },
  {
   "cell_type": "code",
   "execution_count": 4,
   "metadata": {},
   "outputs": [
    {
     "data": {
      "text/html": [
       "'C:\\\\Users\\\\pablo\\\\COVID-19\\\\datasets\\\\TotalTimeAge.csv'"
      ],
      "text/latex": [
       "'C:\\textbackslash{}\\textbackslash{}Users\\textbackslash{}\\textbackslash{}pablo\\textbackslash{}\\textbackslash{}COVID-19\\textbackslash{}\\textbackslash{}datasets\\textbackslash{}\\textbackslash{}TotalTimeAge.csv'"
      ],
      "text/markdown": [
       "'C:\\\\Users\\\\pablo\\\\COVID-19\\\\datasets\\\\TotalTimeAge.csv'"
      ],
      "text/plain": [
       "[1] \"C:\\\\Users\\\\pablo\\\\COVID-19\\\\datasets\\\\TotalTimeAge.csv\""
      ]
     },
     "metadata": {},
     "output_type": "display_data"
    }
   ],
   "source": [
    "# buscar la ruta del archivo de csv\n",
    "file.choose()"
   ]
  },
  {
   "cell_type": "markdown",
   "metadata": {},
   "source": [
    "Cargamos los datos de casos agupados por rangos de edades"
   ]
  },
  {
   "cell_type": "code",
   "execution_count": 2,
   "metadata": {},
   "outputs": [
    {
     "data": {
      "text/html": [
       "<table class=\"dataframe\">\n",
       "<caption>A data.frame: 9 × 3</caption>\n",
       "<thead>\n",
       "\t<tr><th></th><th scope=col>ï..age</th><th scope=col>confirmed</th><th scope=col>deceased</th></tr>\n",
       "\t<tr><th></th><th scope=col>&lt;chr&gt;</th><th scope=col>&lt;int&gt;</th><th scope=col>&lt;int&gt;</th></tr>\n",
       "</thead>\n",
       "<tbody>\n",
       "\t<tr><th scope=row>1</th><td>0s </td><td> 157</td><td>  0</td></tr>\n",
       "\t<tr><th scope=row>2</th><td>10s</td><td> 655</td><td>  0</td></tr>\n",
       "\t<tr><th scope=row>3</th><td>20s</td><td>3176</td><td>  0</td></tr>\n",
       "\t<tr><th scope=row>4</th><td>30s</td><td>1292</td><td>  2</td></tr>\n",
       "\t<tr><th scope=row>5</th><td>40s</td><td>1521</td><td>  3</td></tr>\n",
       "\t<tr><th scope=row>6</th><td>50s</td><td>2039</td><td> 15</td></tr>\n",
       "\t<tr><th scope=row>7</th><td>60s</td><td>1405</td><td> 39</td></tr>\n",
       "\t<tr><th scope=row>8</th><td>70s</td><td> 725</td><td> 80</td></tr>\n",
       "\t<tr><th scope=row>9</th><td>80s</td><td> 498</td><td>131</td></tr>\n",
       "</tbody>\n",
       "</table>\n"
      ],
      "text/latex": [
       "A data.frame: 9 × 3\n",
       "\\begin{tabular}{r|lll}\n",
       "  & ï..age & confirmed & deceased\\\\\n",
       "  & <chr> & <int> & <int>\\\\\n",
       "\\hline\n",
       "\t1 & 0s  &  157 &   0\\\\\n",
       "\t2 & 10s &  655 &   0\\\\\n",
       "\t3 & 20s & 3176 &   0\\\\\n",
       "\t4 & 30s & 1292 &   2\\\\\n",
       "\t5 & 40s & 1521 &   3\\\\\n",
       "\t6 & 50s & 2039 &  15\\\\\n",
       "\t7 & 60s & 1405 &  39\\\\\n",
       "\t8 & 70s &  725 &  80\\\\\n",
       "\t9 & 80s &  498 & 131\\\\\n",
       "\\end{tabular}\n"
      ],
      "text/markdown": [
       "\n",
       "A data.frame: 9 × 3\n",
       "\n",
       "| <!--/--> | ï..age &lt;chr&gt; | confirmed &lt;int&gt; | deceased &lt;int&gt; |\n",
       "|---|---|---|---|\n",
       "| 1 | 0s  |  157 |   0 |\n",
       "| 2 | 10s |  655 |   0 |\n",
       "| 3 | 20s | 3176 |   0 |\n",
       "| 4 | 30s | 1292 |   2 |\n",
       "| 5 | 40s | 1521 |   3 |\n",
       "| 6 | 50s | 2039 |  15 |\n",
       "| 7 | 60s | 1405 |  39 |\n",
       "| 8 | 70s |  725 |  80 |\n",
       "| 9 | 80s |  498 | 131 |\n",
       "\n"
      ],
      "text/plain": [
       "  ï..age confirmed deceased\n",
       "1 0s      157        0     \n",
       "2 10s     655        0     \n",
       "3 20s    3176        0     \n",
       "4 30s    1292        2     \n",
       "5 40s    1521        3     \n",
       "6 50s    2039       15     \n",
       "7 60s    1405       39     \n",
       "8 70s     725       80     \n",
       "9 80s     498      131     "
      ]
     },
     "metadata": {},
     "output_type": "display_data"
    }
   ],
   "source": [
    "# importar datos fechas_temp\n",
    "total_edades <- read.table('C:\\\\Users\\\\pablo\\\\COVID-19\\\\datasets\\\\TotalTimeAge.csv', skip = 0, header = TRUE, sep =\",\")\n",
    "head(total_edades,9)"
   ]
  },
  {
   "cell_type": "markdown",
   "metadata": {},
   "source": [
    "Ver la cantidad de valores NaN en las columnas"
   ]
  },
  {
   "cell_type": "code",
   "execution_count": 13,
   "metadata": {},
   "outputs": [
    {
     "ename": "ERROR",
     "evalue": "Error in summarise_all(total_edades, funs(sum(is.na(.)))): no se pudo encontrar la función \"summarise_all\"\n",
     "output_type": "error",
     "traceback": [
      "Error in summarise_all(total_edades, funs(sum(is.na(.)))): no se pudo encontrar la función \"summarise_all\"\nTraceback:\n"
     ]
    }
   ],
   "source": [
    "summarise_all(total_edades, funs(sum(is.na(.))))"
   ]
  },
  {
   "cell_type": "markdown",
   "metadata": {},
   "source": [
    "Sobre la columna **confirmed** realizar un análisis incluyendo el cálculo de medidas de tendencia central, de dispersión y de forma, apoyando los resultados sobre los gráficos necesarios y comentando las deducciones realizadas."
   ]
  },
  {
   "cell_type": "markdown",
   "metadata": {},
   "source": [
    "# Medidas de Tendencia Central"
   ]
  },
  {
   "cell_type": "markdown",
   "metadata": {},
   "source": [
    "La columna **confirmed** contiene el total de confirmados por rango de edad"
   ]
  },
  {
   "cell_type": "code",
   "execution_count": 3,
   "metadata": {},
   "outputs": [
    {
     "data": {
      "text/plain": [
       "    ï..age            confirmed       deceased  \n",
       " Length:9           Min.   : 157   Min.   :  0  \n",
       " Class :character   1st Qu.: 655   1st Qu.:  0  \n",
       " Mode  :character   Median :1292   Median :  3  \n",
       "                    Mean   :1274   Mean   : 30  \n",
       "                    3rd Qu.:1521   3rd Qu.: 39  \n",
       "                    Max.   :3176   Max.   :131  "
      ]
     },
     "metadata": {},
     "output_type": "display_data"
    }
   ],
   "source": [
    "summary(total_edades)"
   ]
  },
  {
   "cell_type": "markdown",
   "metadata": {},
   "source": [
    "**Media**: la suma de todos los valores dividida entre el número total de datos. Esta medida nos da información sobre la posición de la variable, podemos interpretarla como el centro de gravedad de los datos"
   ]
  },
  {
   "cell_type": "markdown",
   "metadata": {},
   "source": [
    "**Mediana**: es el valor central de nuestros datos, por lo que este valor cumplirá que la mitad de los valores serán mayores que él y la otra mitad serán menores. Tiene la ventaja respecto a la media de que no es sensible a valores atípicos"
   ]
  },
  {
   "cell_type": "markdown",
   "metadata": {},
   "source": [
    "Vemos que la Media Mayor a la Mediana. Esto ya apunta a que no tendremos una Distribución Simétrica, sino algo sesgada hacia la derecha.\n",
    "\n",
    "**Moda**: representa el valor más repetido dentro de conjunto de datos. A diferencia de los anteriores, la moda no tiene porqué ser única, se puede dar el caso de analizar unos datos con una distribución que presente dos, tres o más modas, en estos casos hablaremos de distribuciones bimodales o trimodales.\n",
    "\n",
    "La moda no está implementada en el paquete básico de R, pero podemos utilizar una función creada por nosotros mismos para el cálculo de la misma:"
   ]
  },
  {
   "cell_type": "code",
   "execution_count": 1,
   "metadata": {},
   "outputs": [],
   "source": [
    "# Función creada por el usuario para el cálculo de la Moda\n",
    "moda <- function(v) {\n",
    "   uniqv <- unique(v)\n",
    "   uniqv[which.max(tabulate(match(v, uniqv)))]}"
   ]
  },
  {
   "cell_type": "markdown",
   "metadata": {},
   "source": [
    "### ANÁLISIS CAMPO **CONFIRMED**"
   ]
  },
  {
   "cell_type": "code",
   "execution_count": 5,
   "metadata": {},
   "outputs": [
    {
     "data": {
      "text/html": [
       "157"
      ],
      "text/latex": [
       "157"
      ],
      "text/markdown": [
       "157"
      ],
      "text/plain": [
       "[1] 157"
      ]
     },
     "metadata": {},
     "output_type": "display_data"
    }
   ],
   "source": [
    "# Cálculo de la Moda\n",
    "moda(total_edades$confirmed)"
   ]
  },
  {
   "cell_type": "markdown",
   "metadata": {},
   "source": [
    "La Media > Mediana > Moda\n",
    "\n",
    "Cuartiles: Un cuantil es un valor que dentro de un conjunto de datos ordenándolos de menor a mayor los divide en dos grupos. El caso más utilizado de cuantiles son los cuartiles.\n",
    "Los cuartiles dividen la variable aleatoria en 4 grupos, donde cada uno tiene un 25% de los elementos.\n",
    "Hay 3 cuartiles:\n",
    "\n",
    "- Q1: que representa aquel que es mayor que el 25% de los elementos de los valores.\n",
    "\n",
    "- Q2: que representa aquel que es mayor que el 50% de los elementos de los valores. Es la mediana.\n",
    "\n",
    "- Q3: que representa aquel que es mayor que el 75% de los elementos de los valores."
   ]
  },
  {
   "cell_type": "code",
   "execution_count": 23,
   "metadata": {},
   "outputs": [
    {
     "data": {
      "text/html": [
       "<strong>25%:</strong> 655"
      ],
      "text/latex": [
       "\\textbf{25\\textbackslash{}\\%:} 655"
      ],
      "text/markdown": [
       "**25%:** 655"
      ],
      "text/plain": [
       "25% \n",
       "655 "
      ]
     },
     "metadata": {},
     "output_type": "display_data"
    },
    {
     "data": {
      "text/html": [
       "<strong>75%:</strong> 1521"
      ],
      "text/latex": [
       "\\textbf{75\\textbackslash{}\\%:} 1521"
      ],
      "text/markdown": [
       "**75%:** 1521"
      ],
      "text/plain": [
       " 75% \n",
       "1521 "
      ]
     },
     "metadata": {},
     "output_type": "display_data"
    }
   ],
   "source": [
    "quantile(total_edades$confirmed, 0.25)\n",
    "quantile(total_edades$confirmed, 0.75)"
   ]
  },
  {
   "cell_type": "code",
   "execution_count": 6,
   "metadata": {},
   "outputs": [
    {
     "data": {
      "image/png": "[encoded data removed]",
      "text/plain": [
       "Plot with title \"Histogram of total_edades$confirmed\""
      ]
     },
     "metadata": {
      "image/png": {
       "height": 420,
       "width": 420
      }
     },
     "output_type": "display_data"
    }
   ],
   "source": [
    "# Creación del Histograma\n",
    "hist(total_edades$confirmed)"
   ]
  },
  {
   "cell_type": "markdown",
   "metadata": {},
   "source": [
    "Vemos que la distribución está un poco sesgada hacia la derecha, es decir, se aprecia una cola hacia la derecha. Vamos a realizar una visualización en la que podamos apreciar esto mejor, utilizando ggplot2. Instalamos el paquete ggplot2, y cargamos la librería:"
   ]
  },
  {
   "cell_type": "code",
   "execution_count": 7,
   "metadata": {},
   "outputs": [],
   "source": [
    "# Instalación del paquete ggplot2. Una vez ha sido instalado, lo dejamos comentado\n",
    "#install.packages(\"ggplot2\")\n",
    "# Cargamos la librería ggplot2\n",
    "library(ggplot2)"
   ]
  },
  {
   "cell_type": "markdown",
   "metadata": {},
   "source": [
    "A continuación crearemos el Gráfico de una sóla vez, añadiendo más mejoras y Valores: Media, Cuantil 25 y Cuantil 75"
   ]
  },
  {
   "cell_type": "code",
   "execution_count": 51,
   "metadata": {},
   "outputs": [
    {
     "name": "stderr",
     "output_type": "stream",
     "text": [
      "Warning message:\n",
      "\"Use of `total_edades$confirmed` is discouraged. Use `confirmed` instead.\"\n",
      "Warning message:\n",
      "\"Use of `total_edades$confirmed` is discouraged. Use `confirmed` instead.\"\n",
      "Warning message:\n",
      "\"Use of `total_edades$confirmed` is discouraged. Use `confirmed` instead.\"\n",
      "Warning message:\n",
      "\"Use of `total_edades$confirmed` is discouraged. Use `confirmed` instead.\"\n",
      "Warning message:\n",
      "\"Use of `total_edades$confirmed` is discouraged. Use `confirmed` instead.\"\n",
      "`stat_bin()` using `bins = 30`. Pick better value with `binwidth`.\n",
      "\n"
     ]
    },
    {
     "data": {
      "image/png": "[encoded data removed]",
      "text/plain": [
       "plot without title"
      ]
     },
     "metadata": {
      "image/png": {
       "height": 420,
       "width": 420
      }
     },
     "output_type": "display_data"
    }
   ],
   "source": [
    "RellenoBarras <- \"lightcyan2\"\n",
    "LineaBarras <- \"black\"\n",
    "\n",
    "ggplot(aes(x = total_edades$confirmed), data = total_edades) + \n",
    "      geom_histogram(colour = LineaBarras, fill = RellenoBarras) +\n",
    "      labs(title=\"TOTAL CASOS CONFIMADOS POR EDAD\") +\n",
    "      theme(axis.line = element_line(size=1, colour = \"black\"),\n",
    "              # Líneas de división mayores de la escala de los ejes del Gráfico de color azul\n",
    "              panel.grid.major = element_line(colour = \"darkolivegreen4\"),\n",
    "              # Líneas de división menores de la escala de los ejes del Gráfico de color blanco\n",
    "              panel.grid.minor = element_blank(),\n",
    "              # Bordes dl Gráfico de color Blanco\n",
    "              panel.border = element_blank(), panel.background = element_blank(),\n",
    "              # Formato Título: Tamaños 14 y Negrita\n",
    "              plot.title = element_text(size = 14, face = \"bold\"),\n",
    "              # Eje X de color negro. Tamaño fuente 9\n",
    "              axis.text.x=element_text(colour=\"black\", size = 9),\n",
    "              # Ponemos la leyenda en la parte infrior\n",
    "              legend.position=\"bottom\",\n",
    "              # Texto de la leyenda n azul. Tamaño de fuent 9\n",
    "              legend.text=element_text(colour=\"blue\",size=9),\n",
    "              # Eje Y de color negro. Tamaño fuente 9\n",
    "              axis.text.y=element_text(colour=\"black\", size = 9))+\n",
    "\n",
    "# Mostrar la Mediana\n",
    "      geom_vline(aes(xintercept=median(total_edades$confirmed),\n",
    "                 color=\"mediana\"), linetype=\"dashed\",\n",
    "             size=1) +\n",
    "# Mostrar la Media\n",
    "      geom_vline(aes(xintercept = mean(total_edades$confirmed),\n",
    "                 color=\"media\"), linetype=\"dashed\",\n",
    "             size=1) +\n",
    "# Mostrar el Cuantil 25\n",
    "      geom_vline(aes(xintercept = quantile(total_edades$confirmed, 0.25),\n",
    "                 color=\"cuantil_25\"), linetype=\"dashed\",\n",
    "             size=1) +\n",
    "# Mostrar el Cuantil 75\n",
    "      geom_vline(aes(xintercept = quantile(total_edades$confirmed, 0.75),\n",
    "                 color=\"cuantil_75\"), linetype=\"dashed\",\n",
    "             size=1) +\n",
    "# Nombre d la Leyenda ·Estadísticas\". Colores de las medidas: Medina (Azul), Media (Rojo), Cuantil 25 (Negro)\n",
    "# y Cuantil 75 (Naranja) \n",
    "        scale_color_manual(name = \"Estadísticas\", values = c(mediana = \"blue\", media = \"red\", cuantil_25 = \"black\", \n",
    "                                                     cuantil_75 = \"orange\"))+\n",
    "# Texto del eje X \"TOTAL CASOS CONFIRMADOS\" y del eje Y \"Nº DE CASOS\"\n",
    "  xlab(\"TOTAL CASOS CONFIRMADOS POR EDAD\") + ylab(\"Nº DE CASOS\")"
   ]
  },
  {
   "cell_type": "markdown",
   "metadata": {},
   "source": [
    "Veamos el Gráfico de Densidad vs Histograma, con la Mediana en Negro y la Media en Rojo. Se aprecia la asimetría a la derecha"
   ]
  },
  {
   "cell_type": "code",
   "execution_count": 53,
   "metadata": {},
   "outputs": [
    {
     "name": "stderr",
     "output_type": "stream",
     "text": [
      "Warning message:\n",
      "\"Use of `total_edades$confirmed` is discouraged. Use `confirmed` instead.\"\n",
      "Warning message:\n",
      "\"Use of `total_edades$confirmed` is discouraged. Use `confirmed` instead.\"\n",
      "Warning message:\n",
      "\"Use of `total_edades$confirmed` is discouraged. Use `confirmed` instead.\"\n",
      "Warning message:\n",
      "\"Use of `total_edades$confirmed` is discouraged. Use `confirmed` instead.\"\n",
      "`stat_bin()` using `bins = 30`. Pick better value with `binwidth`.\n",
      "\n"
     ]
    },
    {
     "data": {
      "image/png": "[encoded data removed]",
      "text/plain": [
       "plot without title"
      ]
     },
     "metadata": {
      "image/png": {
       "height": 420,
       "width": 420
      }
     },
     "output_type": "display_data"
    }
   ],
   "source": [
    "# Histogram with density plot\n",
    "ggplot(total_edades, aes(x=total_edades$confirmed)) + \n",
    "     geom_histogram(aes(y=..density..), colour=\"black\", fill=\"lightcyan2\")+\n",
    "     geom_density(alpha=.2, fill=\"#FF6666\") +\n",
    "     geom_vline(aes(xintercept=median(total_edades$confirmed)),color=\"black\", linetype=\"dashed\") + \n",
    "     geom_vline(aes(xintercept=mean(total_edades$confirmed)),color=\"red\", linetype=\"dashed\") +\n",
    "     labs(title=\"TOTAL CASOS CONFIRMADOS POR EDAD\") + xlab(\"Nº DE CASOS\")\n"
   ]
  },
  {
   "cell_type": "markdown",
   "metadata": {},
   "source": [
    "Esta misma información también se puede visualizar con un boxplot"
   ]
  },
  {
   "cell_type": "markdown",
   "metadata": {},
   "source": [
    "Vamos a ver los elementos de un Boxplot, y que información nos dan:\n",
    "- La línea inferior de la caja es el Cuantil 25\n",
    "- La línea superior de la caja es el Cuantil 75\n",
    "- La línea interior de la caja es la mediana. Al no estar en el centro de la caja, y más cerca de la parte inferior de la caja, no es simétrica, y nos indica que hay un sesgo hacía la derecha, es decir, la distribución teien una pequeña cola hacia la derecha.\n",
    "- Las líneas verticales, arriba y abajo de la caja, son los bigotes, y se extienden hasta los valores máximo y mínimo de los valores o hasta 1,5 veces el RIC (rango intercuartílico)- Cuando los datos se extienden más allá de esto, significa que hay valores atípicos en la serie y entonces hay que calcular los límites superior e inferior, Li y Ls. Para ello, se consideran atípicos los valores inferiores a Q1–1.5·RIC o superiores a Q3+1.5·RIC.\n",
    "- Los puntos que vemos fuera de los bigotes, son datos atípicos"
   ]
  },
  {
   "cell_type": "code",
   "execution_count": 10,
   "metadata": {},
   "outputs": [
    {
     "name": "stderr",
     "output_type": "stream",
     "text": [
      "Warning message:\n",
      "\"Use of `total_edades$confirmed` is discouraged. Use `confirmed` instead.\"\n",
      "Warning message:\n",
      "\"Use of `total_edades$confirmed` is discouraged. Use `confirmed` instead.\"\n",
      "Warning message:\n",
      "\"Use of `total_edades$confirmed` is discouraged. Use `confirmed` instead.\"\n"
     ]
    },
    {
     "data": {
      "image/png": "[encoded data removed]",
      "text/plain": [
       "plot without title"
      ]
     },
     "metadata": {
      "image/png": {
       "height": 420,
       "width": 420
      }
     },
     "output_type": "display_data"
    }
   ],
   "source": [
    "# Creamos dos variables para poner el color de relleno de la caja, y el color del borde de la caja Estas variables\n",
    "# serán pasadas en la geometría\n",
    "relleno <- \"lightblue3\"\n",
    "linea <- \"midnightblue\"\n",
    "\n",
    "bp2 <- ggplot(total_edades, aes(x = \"\", y = total_edades$confirmed)) +\n",
    "        # Mostramos los Outliers con forma de cuadrado, y de color verde\n",
    "        geom_boxplot(fill = relleno, colour = linea,outlier.colour = \"green\", outlier.size = 6,outlier.shape = 22) +\n",
    "        scale_y_continuous(name = \"Nº DE CASOS\") + \n",
    "        scale_x_discrete(name = \"CASOS CONFIRMADOS POR EDAD\") +\n",
    "        ggtitle(\"TOTAL CASOS CONFIRMADOS POR EDAD\") +\n",
    "        # Ponemos color Negro a los ejes X e Y\n",
    "        theme(axis.line.x = element_line(size = 0.5, colour = \"black\"),\n",
    "              axis.line.y = element_line(size = 0.5, colour = \"black\"),\n",
    "              axis.title = element_text(size = 12),\n",
    "              # Ponemos título al Gráficco\n",
    "              legend.text = element_text(size = 9),\n",
    "              legend.title=element_text(face = \"bold\", size = 9),\n",
    "              # Mostramos la escala mayor\n",
    "              panel.grid.major = element_line(colour = \"snow3\"),\n",
    "              panel.grid.minor = element_blank(),\n",
    "              panel.border = element_blank(),\n",
    "              #Ponrmos Blanco como color de fondo del Gráfico\n",
    "              panel.background = element_blank()) +\n",
    "          # Mostramos los valores de los Anchos de Sépalo\n",
    "          geom_text(aes(label=total_edades$confirmed),hjust=0,nudge_x=0.05,color=\"blue\",size=3)\n",
    "\n",
    "bp2"
   ]
  },
  {
   "cell_type": "markdown",
   "metadata": {},
   "source": [
    "Si analizamos el Histograma y el Boxplot, podemos ver que hay un valor atípico: **3176** que correspond  la rango de edad **20s**. Este valor se pude decir que es un Outlier, ya que está fuera del alcance de los bigotes del Boxplot."
   ]
  },
  {
   "cell_type": "markdown",
   "metadata": {},
   "source": [
    "A partir de todo lo que hemos analizado, podemos sacar diferentes conclusiones sobre la forma de la distribución:\n",
    "\n",
    "- Conclusión 1: gracias al histograma, y aunque la mediana está muy cercana a la media, vemos que la distribución está sesgada hacía la\n",
    "derecha, es decir, existe una pequeña cola a la derecha, por lo tanto, no tenemos una distribución normal o simétrica. Esto podremos\n",
    "analizarlo en detalle cuando veamos las medidas de simetría.\n",
    "- Conclusión 2: los cuantiles 25 y 75, no están a la misma distancia de la mediana (Ver BoxPlot). Hay una mayor distancia entre el cuantil 75 y la\n",
    "mediana, que entre el cuantil 25 y la mediana (Ver BoxPlot). Esto último puede significar que hay un mayor apelotonamiento de los datos.\n",
    "en esta zona.\n",
    "- Conclusión 3: debido a todo esto parece que estemos ante una asimetría positiva.\n",
    "- Conclusión 4: tenemos un dato atípico (outliers) para la edad de 20s de valor **3176**, que, si lo eliminaremos, la distribución podría ser simétrica. Esto será analizado más adelante.\n"
   ]
  },
  {
   "cell_type": "code",
   "execution_count": 54,
   "metadata": {},
   "outputs": [
    {
     "name": "stderr",
     "output_type": "stream",
     "text": [
      "Warning message:\n",
      "\"Use of `total_edades$deceased` is discouraged. Use `deceased` instead.\"\n",
      "Warning message:\n",
      "\"Use of `total_edades$deceased` is discouraged. Use `deceased` instead.\"\n",
      "Warning message:\n",
      "\"Use of `total_edades$deceased` is discouraged. Use `deceased` instead.\"\n"
     ]
    },
    {
     "data": {
      "image/png": "[encoded data removed]",
      "text/plain": [
       "plot without title"
      ]
     },
     "metadata": {
      "image/png": {
       "height": 420,
       "width": 420
      }
     },
     "output_type": "display_data"
    }
   ],
   "source": [
    "# Creamos dos variables para poner el color de relleno de la caja, y el color del borde de la caja Estas variables\n",
    "# serán pasadas en la geometría\n",
    "relleno <- \"lightblue3\"\n",
    "linea <- \"midnightblue\"\n",
    "\n",
    "bp2 <- ggplot(total_edades, aes(x = \"\", y = total_edades$deceased)) +\n",
    "        # Mostramos los Outliers con forma de cuadrado, y de color verde\n",
    "        geom_boxplot(fill = relleno, colour = linea,outlier.colour = \"green\", outlier.size = 6,outlier.shape = 22) +\n",
    "        scale_y_continuous(name = \"Nº DE CASOS\") + \n",
    "        scale_x_discrete(name = \"CASOS FALLECIDOS POR EDAD\") +\n",
    "        ggtitle(\"TOTAL CASOS FALLECIDOS POR EDAD\") +\n",
    "        # Ponemos color Negro a los ejes X e Y\n",
    "        theme(axis.line.x = element_line(size = 0.5, colour = \"black\"),\n",
    "              axis.line.y = element_line(size = 0.5, colour = \"black\"),\n",
    "              axis.title = element_text(size = 12),\n",
    "              # Ponemos título al Gráficco\n",
    "              legend.text = element_text(size = 9),\n",
    "              legend.title=element_text(face = \"bold\", size = 9),\n",
    "              # Mostramos la escala mayor\n",
    "              panel.grid.major = element_line(colour = \"snow3\"),\n",
    "              panel.grid.minor = element_blank(),\n",
    "              panel.border = element_blank(),\n",
    "              #Ponrmos Blanco como color de fondo del Gráfico\n",
    "              panel.background = element_blank()) +\n",
    "          # Mostramos los valores de los casos de fallecidos\n",
    "          geom_text(aes(label=total_edades$deceased),hjust=0,nudge_x=0.05,color=\"blue\",size=3)\n",
    "\n",
    "bp2"
   ]
  },
  {
   "cell_type": "markdown",
   "metadata": {},
   "source": [
    "# Medidas de Dispersión"
   ]
  },
  {
   "cell_type": "markdown",
   "metadata": {},
   "source": [
    "Con la Medidas de Dispersión, podremos analizar la dispersión de los datos, es decir, vamos a medir lo lejos o cerca que están los valores respecto a la media."
   ]
  },
  {
   "cell_type": "markdown",
   "metadata": {},
   "source": [
    "Varianza: La varianza nos va a servir para determinar la dispersión de los valores de la variable alrededor de la media. Así, si los valores están alejados de su valor medio, la varianza será grande\n",
    "y si están muy próximos a ella, la varianza será pequeña y podremos intuir que las medidas están concentradas alrededor de la media.\n",
    "\n",
    "De la misma manera que ocurre con la media es muy sensible de datos extremos y cuanto más se acerque su valor a cero podemos deducir que los datos están más concentrados alrededor de la media de la variable aleatoria"
   ]
  },
  {
   "cell_type": "code",
   "execution_count": 11,
   "metadata": {},
   "outputs": [
    {
     "data": {
      "text/html": [
       "851968.694444444"
      ],
      "text/latex": [
       "851968.694444444"
      ],
      "text/markdown": [
       "851968.694444444"
      ],
      "text/plain": [
       "[1] 851968.7"
      ]
     },
     "metadata": {},
     "output_type": "display_data"
    }
   ],
   "source": [
    "# Cálculo de la varianza\n",
    "var(total_edades$confirmed)"
   ]
  },
  {
   "cell_type": "markdown",
   "metadata": {},
   "source": [
    "Desviación típica: se define como la raíz cuadrada de la varianza de la variable. Sirve principalmente para conocer la desviación que presentan los datos en su distribución respecto a la media aritmética de dicha distribución"
   ]
  },
  {
   "cell_type": "code",
   "execution_count": 12,
   "metadata": {},
   "outputs": [
    {
     "data": {
      "text/html": [
       "923.021502698851"
      ],
      "text/latex": [
       "923.021502698851"
      ],
      "text/markdown": [
       "923.021502698851"
      ],
      "text/plain": [
       "[1] 923.0215"
      ]
     },
     "metadata": {},
     "output_type": "display_data"
    }
   ],
   "source": [
    "# Cálculo de la desviación Típica\n",
    "sd(total_edades$confirmed)"
   ]
  },
  {
   "cell_type": "markdown",
   "metadata": {},
   "source": [
    "# Medidas de Forma"
   ]
  },
  {
   "cell_type": "markdown",
   "metadata": {},
   "source": [
    "La asimetría será un indicador sobre el aspecto que tiene una distribución utilizando como eje el valor que pasa por la media, podemos verlo como una manera de matematizar algo que podríamos analizar\n",
    "dibujando las frecuencias de la variable. Diremos que una distribución es simétrica; si a misma distancia de la media, a ambos lados, las\n",
    "frecuencias son parecidas. El ejemplo más evidente de distribución simétrica sería la normal.\n",
    "\n",
    "En el caso en el que no exista simetría, las asimetrías las podremos clasificar en dos grupos:\n",
    "\n",
    "- Asimetría positiva: si la cola a la derecha de la media es más larga que la izquierda.\n",
    "- Asimetría negativa: si la cola a la izquierda de la media es más larga que a la derecha."
   ]
  },
  {
   "cell_type": "markdown",
   "metadata": {},
   "source": [
    "Coeficiente de Simetría: La primera medida de forma que vamos a ver será el coeficiente de simetría, que nos dará información sobre si la distribución está centrada o si presenta colas a alguno de los dos lados:"
   ]
  },
  {
   "cell_type": "code",
   "execution_count": 14,
   "metadata": {},
   "outputs": [
    {
     "name": "stderr",
     "output_type": "stream",
     "text": [
      "Installing package into 'C:/Users/pablo/Documents/R/win-library/4.1'\n",
      "(as 'lib' is unspecified)\n",
      "\n",
      "also installing the dependency 'proxy'\n",
      "\n",
      "\n"
     ]
    },
    {
     "name": "stdout",
     "output_type": "stream",
     "text": [
      "package 'proxy' successfully unpacked and MD5 sums checked\n",
      "package 'e1071' successfully unpacked and MD5 sums checked\n",
      "\n",
      "The downloaded binary packages are in\n",
      "\tC:\\Users\\pablo\\AppData\\Local\\Temp\\Rtmpu2n1fb\\downloaded_packages\n"
     ]
    }
   ],
   "source": [
    "#install.packages(\"e1071\")\n",
    "library(e1071)"
   ]
  },
  {
   "cell_type": "code",
   "execution_count": 15,
   "metadata": {},
   "outputs": [
    {
     "data": {
      "text/html": [
       "0.717425449268113"
      ],
      "text/latex": [
       "0.717425449268113"
      ],
      "text/markdown": [
       "0.717425449268113"
      ],
      "text/plain": [
       "[1] 0.7174254"
      ]
     },
     "metadata": {},
     "output_type": "display_data"
    }
   ],
   "source": [
    "# Cálculo del Coeficiente de Simetría\n",
    "skewness(total_edades$confirmed)"
   ]
  },
  {
   "cell_type": "markdown",
   "metadata": {},
   "source": [
    "Como era de esperar, tenemos simetría > 0, lo cual nos informa de que la distribución, presenta un asimetría hacía la derecha\n",
    "ASIMETRIA POSITIVA\n",
    "\n",
    "Nota: en una Distribución Normal, tendríamos un valor 0 o cercano al 0."
   ]
  },
  {
   "cell_type": "markdown",
   "metadata": {},
   "source": [
    "Vamos a hacer el test de Shapiro-Wilk, buscando un valor p mayor a 0,05"
   ]
  },
  {
   "cell_type": "code",
   "execution_count": 16,
   "metadata": {},
   "outputs": [
    {
     "data": {
      "text/plain": [
       "\n",
       "\tShapiro-Wilk normality test\n",
       "\n",
       "data:  total_edades$confirmed\n",
       "W = 0.92669, p-value = 0.4505\n"
      ]
     },
     "metadata": {},
     "output_type": "display_data"
    }
   ],
   "source": [
    "#Prueba de Shapiro Wilk (muestras pequeñas)\n",
    "shapiro.test(total_edades$confirmed)"
   ]
  },
  {
   "cell_type": "markdown",
   "metadata": {},
   "source": [
    "Vemos que p-value > 0.05. Lo cual también corrobora prácticamente la asimetría"
   ]
  },
  {
   "cell_type": "markdown",
   "metadata": {},
   "source": [
    "Kurtosis: La curtosis (o apuntamiento) es una medida de forma que mide cuán escarpada o achatada está una curva o distribución. Mide el apuntamiento que presenta la distribución alrededor de la media. Este coeficiente indica la cantidad de datos que hay cercanos a la media, de manera que a mayor grado de curtosis, más escarpada (o apuntada) será la forma de la curva"
   ]
  },
  {
   "cell_type": "code",
   "execution_count": 17,
   "metadata": {},
   "outputs": [
    {
     "data": {
      "text/html": [
       "-0.614133177326563"
      ],
      "text/latex": [
       "-0.614133177326563"
      ],
      "text/markdown": [
       "-0.614133177326563"
      ],
      "text/plain": [
       "[1] -0.6141332"
      ]
     },
     "metadata": {},
     "output_type": "display_data"
    }
   ],
   "source": [
    "# Cálculo de la Kurtosis\n",
    "kurtosis(total_edades$confirmed)"
   ]
  },
  {
   "cell_type": "markdown",
   "metadata": {},
   "source": [
    "Vemos que la Kurtosis es negativa, la distribución se llama platicúrtica y hay una menor concentración de datos en torno a la media. Es más achatada que la distribución normal."
   ]
  },
  {
   "cell_type": "markdown",
   "metadata": {},
   "source": [
    "### ANÁLISIS CAMPO **DECEASED**"
   ]
  },
  {
   "cell_type": "code",
   "execution_count": 55,
   "metadata": {},
   "outputs": [],
   "source": [
    "# Función creada por el usuario para el cálculo de la Moda\n",
    "moda <- function(v) {\n",
    "   uniqv <- unique(v)\n",
    "   uniqv[which.max(tabulate(match(v, uniqv)))]}"
   ]
  },
  {
   "cell_type": "code",
   "execution_count": 56,
   "metadata": {},
   "outputs": [
    {
     "data": {
      "text/html": [
       "0"
      ],
      "text/latex": [
       "0"
      ],
      "text/markdown": [
       "0"
      ],
      "text/plain": [
       "[1] 0"
      ]
     },
     "metadata": {},
     "output_type": "display_data"
    }
   ],
   "source": [
    "# Cálculo de la Moda\n",
    "moda(total_edades$deceased)"
   ]
  },
  {
   "cell_type": "markdown",
   "metadata": {},
   "source": [
    "La Media > Mediana > Moda\n",
    "\n",
    "Cuartiles: Un cuantil es un valor que dentro de un conjunto de datos ordenándolos de menor a mayor los divide en dos grupos. El caso más utilizado de cuantiles son los cuartiles.\n",
    "Los cuartiles dividen la variable aleatoria en 4 grupos, donde cada uno tiene un 25% de los elementos.\n",
    "Hay 3 cuartiles:\n",
    "\n",
    "- Q1: que representa aquel que es mayor que el 25% de los elementos de los valores.\n",
    "\n",
    "- Q2: que representa aquel que es mayor que el 50% de los elementos de los valores. Es la mediana.\n",
    "\n",
    "- Q3: que representa aquel que es mayor que el 75% de los elementos de los valores."
   ]
  },
  {
   "cell_type": "code",
   "execution_count": 58,
   "metadata": {},
   "outputs": [
    {
     "data": {
      "text/html": [
       "<strong>25%:</strong> 0"
      ],
      "text/latex": [
       "\\textbf{25\\textbackslash{}\\%:} 0"
      ],
      "text/markdown": [
       "**25%:** 0"
      ],
      "text/plain": [
       "25% \n",
       "  0 "
      ]
     },
     "metadata": {},
     "output_type": "display_data"
    },
    {
     "data": {
      "text/html": [
       "<strong>75%:</strong> 39"
      ],
      "text/latex": [
       "\\textbf{75\\textbackslash{}\\%:} 39"
      ],
      "text/markdown": [
       "**75%:** 39"
      ],
      "text/plain": [
       "75% \n",
       " 39 "
      ]
     },
     "metadata": {},
     "output_type": "display_data"
    }
   ],
   "source": [
    "quantile(total_edades$deceased, 0.25)\n",
    "quantile(total_edades$deceased, 0.75)"
   ]
  },
  {
   "cell_type": "code",
   "execution_count": 59,
   "metadata": {},
   "outputs": [
    {
     "data": {
      "image/png": "[encoded data removed]",
      "text/plain": [
       "Plot with title \"Histogram of total_edades$deceased\""
      ]
     },
     "metadata": {
      "image/png": {
       "height": 420,
       "width": 420
      }
     },
     "output_type": "display_data"
    }
   ],
   "source": [
    "# Creación del Histograma\n",
    "hist(total_edades$deceased)"
   ]
  },
  {
   "cell_type": "code",
   "execution_count": 60,
   "metadata": {},
   "outputs": [
    {
     "name": "stderr",
     "output_type": "stream",
     "text": [
      "Warning message:\n",
      "\"Use of `total_edades$deceased` is discouraged. Use `deceased` instead.\"\n",
      "Warning message:\n",
      "\"Use of `total_edades$deceased` is discouraged. Use `deceased` instead.\"\n",
      "Warning message:\n",
      "\"Use of `total_edades$deceased` is discouraged. Use `deceased` instead.\"\n",
      "Warning message:\n",
      "\"Use of `total_edades$deceased` is discouraged. Use `deceased` instead.\"\n",
      "Warning message:\n",
      "\"Use of `total_edades$deceased` is discouraged. Use `deceased` instead.\"\n",
      "`stat_bin()` using `bins = 30`. Pick better value with `binwidth`.\n",
      "\n"
     ]
    },
    {
     "data": {
      "image/png": "[encoded data removed]",
      "text/plain": [
       "plot without title"
      ]
     },
     "metadata": {
      "image/png": {
       "height": 420,
       "width": 420
      }
     },
     "output_type": "display_data"
    }
   ],
   "source": [
    "RellenoBarras <- \"lightcyan2\"\n",
    "LineaBarras <- \"black\"\n",
    "\n",
    "ggplot(aes(x = total_edades$deceased), data = total_edades) + \n",
    "      geom_histogram(colour = LineaBarras, fill = RellenoBarras) +\n",
    "      labs(title=\"TOTAL CASOS FALLECIDOS POR EDAD\") +\n",
    "      theme(axis.line = element_line(size=1, colour = \"black\"),\n",
    "              # Líneas de división mayores de la escala de los ejes del Gráfico de color azul\n",
    "              panel.grid.major = element_line(colour = \"darkolivegreen4\"),\n",
    "              # Líneas de división menores de la escala de los ejes del Gráfico de color blanco\n",
    "              panel.grid.minor = element_blank(),\n",
    "              # Bordes dl Gráfico de color Blanco\n",
    "              panel.border = element_blank(), panel.background = element_blank(),\n",
    "              # Formato Título: Tamaños 14 y Negrita\n",
    "              plot.title = element_text(size = 14, face = \"bold\"),\n",
    "              # Eje X de color negro. Tamaño fuente 9\n",
    "              axis.text.x=element_text(colour=\"black\", size = 9),\n",
    "              # Ponemos la leyenda en la parte infrior\n",
    "              legend.position=\"bottom\",\n",
    "              # Texto de la leyenda n azul. Tamaño de fuent 9\n",
    "              legend.text=element_text(colour=\"blue\",size=9),\n",
    "              # Eje Y de color negro. Tamaño fuente 9\n",
    "              axis.text.y=element_text(colour=\"black\", size = 9))+\n",
    "\n",
    "# Mostrar la Mediana\n",
    "      geom_vline(aes(xintercept=median(total_edades$deceased),\n",
    "                 color=\"mediana\"), linetype=\"dashed\",\n",
    "             size=1) +\n",
    "# Mostrar la Media\n",
    "      geom_vline(aes(xintercept = mean(total_edades$deceased),\n",
    "                 color=\"media\"), linetype=\"dashed\",\n",
    "             size=1) +\n",
    "# Mostrar el Cuantil 25\n",
    "      geom_vline(aes(xintercept = quantile(total_edades$deceased, 0.25),\n",
    "                 color=\"cuantil_25\"), linetype=\"dashed\",\n",
    "             size=1) +\n",
    "# Mostrar el Cuantil 75\n",
    "      geom_vline(aes(xintercept = quantile(total_edades$deceased, 0.75),\n",
    "                 color=\"cuantil_75\"), linetype=\"dashed\",\n",
    "             size=1) +\n",
    "# Nombre d la Leyenda ·Estadísticas\". Colores de las medidas: Medina (Azul), Media (Rojo), Cuantil 25 (Negro)\n",
    "# y Cuantil 75 (Naranja) \n",
    "        scale_color_manual(name = \"Estadísticas\", values = c(mediana = \"blue\", media = \"red\", cuantil_25 = \"black\", \n",
    "                                                     cuantil_75 = \"orange\"))+\n",
    "# Texto del eje X \"TOTAL CASOS FALLECIDOS\" y del eje Y \"Nº DE CASOS\"\n",
    "  xlab(\"TOTAL CASOS FALLECIDOS POR EDAD\") + ylab(\"Nº DE CASOS\")"
   ]
  },
  {
   "cell_type": "code",
   "execution_count": 61,
   "metadata": {},
   "outputs": [
    {
     "name": "stderr",
     "output_type": "stream",
     "text": [
      "Warning message:\n",
      "\"Use of `total_edades$deceased` is discouraged. Use `deceased` instead.\"\n",
      "Warning message:\n",
      "\"Use of `total_edades$deceased` is discouraged. Use `deceased` instead.\"\n",
      "Warning message:\n",
      "\"Use of `total_edades$deceased` is discouraged. Use `deceased` instead.\"\n",
      "Warning message:\n",
      "\"Use of `total_edades$deceased` is discouraged. Use `deceased` instead.\"\n",
      "`stat_bin()` using `bins = 30`. Pick better value with `binwidth`.\n",
      "\n"
     ]
    },
    {
     "data": {
      "image/png": "[encoded data removed]",
      "text/plain": [
       "plot without title"
      ]
     },
     "metadata": {
      "image/png": {
       "height": 420,
       "width": 420
      }
     },
     "output_type": "display_data"
    }
   ],
   "source": [
    "# Histogram with density plot\n",
    "ggplot(total_edades, aes(x=total_edades$deceased)) + \n",
    "     geom_histogram(aes(y=..density..), colour=\"black\", fill=\"lightcyan2\")+\n",
    "     geom_density(alpha=.2, fill=\"#FF6666\") +\n",
    "     geom_vline(aes(xintercept=median(total_edades$deceased)),color=\"black\", linetype=\"dashed\") + \n",
    "     geom_vline(aes(xintercept=mean(total_edades$deceased)),color=\"red\", linetype=\"dashed\") +\n",
    "     labs(title=\"TOTAL CASOS FALLECIDOS POR EDAD\") + xlab(\"Nº DE CASOS\")"
   ]
  },
  {
   "cell_type": "code",
   "execution_count": 62,
   "metadata": {},
   "outputs": [
    {
     "name": "stderr",
     "output_type": "stream",
     "text": [
      "Warning message:\n",
      "\"Use of `total_edades$deceased` is discouraged. Use `deceased` instead.\"\n",
      "Warning message:\n",
      "\"Use of `total_edades$deceased` is discouraged. Use `deceased` instead.\"\n",
      "Warning message:\n",
      "\"Use of `total_edades$deceased` is discouraged. Use `deceased` instead.\"\n"
     ]
    },
    {
     "data": {
      "image/png": "[encoded data removed]",
      "text/plain": [
       "plot without title"
      ]
     },
     "metadata": {
      "image/png": {
       "height": 420,
       "width": 420
      }
     },
     "output_type": "display_data"
    }
   ],
   "source": [
    "# Creamos dos variables para poner el color de relleno de la caja, y el color del borde de la caja Estas variables\n",
    "# serán pasadas en la geometría\n",
    "relleno <- \"lightblue3\"\n",
    "linea <- \"midnightblue\"\n",
    "\n",
    "bp2 <- ggplot(total_edades, aes(x = \"\", y = total_edades$deceased)) +\n",
    "        # Mostramos los Outliers con forma de cuadrado, y de color verde\n",
    "        geom_boxplot(fill = relleno, colour = linea,outlier.colour = \"green\", outlier.size = 6,outlier.shape = 22) +\n",
    "        scale_y_continuous(name = \"Nº DE CASOS\") + \n",
    "        scale_x_discrete(name = \"CASOS FALLECIDOS POR EDAD\") +\n",
    "        ggtitle(\"TOTAL CASOS FALLECIDOS POR EDAD\") +\n",
    "        # Ponemos color Negro a los ejes X e Y\n",
    "        theme(axis.line.x = element_line(size = 0.5, colour = \"black\"),\n",
    "              axis.line.y = element_line(size = 0.5, colour = \"black\"),\n",
    "              axis.title = element_text(size = 12),\n",
    "              # Ponemos título al Gráficco\n",
    "              legend.text = element_text(size = 9),\n",
    "              legend.title=element_text(face = \"bold\", size = 9),\n",
    "              # Mostramos la escala mayor\n",
    "              panel.grid.major = element_line(colour = \"snow3\"),\n",
    "              panel.grid.minor = element_blank(),\n",
    "              panel.border = element_blank(),\n",
    "              #Ponrmos Blanco como color de fondo del Gráfico\n",
    "              panel.background = element_blank()) +\n",
    "          # Mostramos los valores de los casos de fallecidos\n",
    "          geom_text(aes(label=total_edades$deceased),hjust=0,nudge_x=0.05,color=\"blue\",size=3)\n",
    "\n",
    "bp2"
   ]
  },
  {
   "cell_type": "markdown",
   "metadata": {},
   "source": [
    "## DATOS DE CASOS POR PROVINCIAS - FICHERO TIMEPROVINCE.CSV"
   ]
  },
  {
   "cell_type": "markdown",
   "metadata": {},
   "source": [
    "Cargamos los datos de casos agupados por provincias"
   ]
  },
  {
   "cell_type": "code",
   "execution_count": 18,
   "metadata": {},
   "outputs": [
    {
     "data": {
      "text/html": [
       "<table class=\"dataframe\">\n",
       "<caption>A data.frame: 17 × 4</caption>\n",
       "<thead>\n",
       "\t<tr><th></th><th scope=col>ï..province</th><th scope=col>confirmed</th><th scope=col>released</th><th scope=col>deceased</th></tr>\n",
       "\t<tr><th></th><th scope=col>&lt;chr&gt;</th><th scope=col>&lt;int&gt;</th><th scope=col>&lt;int&gt;</th><th scope=col>&lt;int&gt;</th></tr>\n",
       "</thead>\n",
       "<tbody>\n",
       "\t<tr><th scope=row>1</th><td>Seoul            </td><td> 861</td><td> 627</td><td>  4</td></tr>\n",
       "\t<tr><th scope=row>2</th><td>Busan            </td><td> 147</td><td> 138</td><td>  3</td></tr>\n",
       "\t<tr><th scope=row>3</th><td>Daegu            </td><td>6883</td><td>6607</td><td>185</td></tr>\n",
       "\t<tr><th scope=row>4</th><td>Incheon          </td><td> 206</td><td>  94</td><td>  0</td></tr>\n",
       "\t<tr><th scope=row>5</th><td>Gwangju          </td><td>  32</td><td>  30</td><td>  0</td></tr>\n",
       "\t<tr><th scope=row>6</th><td>Daejeon          </td><td>  46</td><td>  42</td><td>  1</td></tr>\n",
       "\t<tr><th scope=row>7</th><td>Ulsan            </td><td>  52</td><td>  45</td><td>  1</td></tr>\n",
       "\t<tr><th scope=row>8</th><td>Sejong           </td><td>  47</td><td>  47</td><td>  0</td></tr>\n",
       "\t<tr><th scope=row>9</th><td>Gyeonggi-do      </td><td> 840</td><td> 650</td><td> 19</td></tr>\n",
       "\t<tr><th scope=row>10</th><td>Gangwon-do       </td><td>  57</td><td>  50</td><td>  3</td></tr>\n",
       "\t<tr><th scope=row>11</th><td>Chungcheongbuk-do</td><td>  60</td><td>  49</td><td>  0</td></tr>\n",
       "\t<tr><th scope=row>12</th><td>Chungcheongnam-do</td><td> 146</td><td> 142</td><td>  0</td></tr>\n",
       "\t<tr><th scope=row>13</th><td>Jeollabuk-do     </td><td>  21</td><td>  19</td><td>  0</td></tr>\n",
       "\t<tr><th scope=row>14</th><td>Jeollanam-do     </td><td>  19</td><td>  17</td><td>  0</td></tr>\n",
       "\t<tr><th scope=row>15</th><td>Gyeongsangbuk-do </td><td>1379</td><td>1295</td><td> 54</td></tr>\n",
       "\t<tr><th scope=row>16</th><td>Gyeongsangnam-do </td><td> 123</td><td> 121</td><td>  0</td></tr>\n",
       "\t<tr><th scope=row>17</th><td>Jeju-do          </td><td>  15</td><td>  13</td><td>  0</td></tr>\n",
       "</tbody>\n",
       "</table>\n"
      ],
      "text/latex": [
       "A data.frame: 17 × 4\n",
       "\\begin{tabular}{r|llll}\n",
       "  & ï..province & confirmed & released & deceased\\\\\n",
       "  & <chr> & <int> & <int> & <int>\\\\\n",
       "\\hline\n",
       "\t1 & Seoul             &  861 &  627 &   4\\\\\n",
       "\t2 & Busan             &  147 &  138 &   3\\\\\n",
       "\t3 & Daegu             & 6883 & 6607 & 185\\\\\n",
       "\t4 & Incheon           &  206 &   94 &   0\\\\\n",
       "\t5 & Gwangju           &   32 &   30 &   0\\\\\n",
       "\t6 & Daejeon           &   46 &   42 &   1\\\\\n",
       "\t7 & Ulsan             &   52 &   45 &   1\\\\\n",
       "\t8 & Sejong            &   47 &   47 &   0\\\\\n",
       "\t9 & Gyeonggi-do       &  840 &  650 &  19\\\\\n",
       "\t10 & Gangwon-do        &   57 &   50 &   3\\\\\n",
       "\t11 & Chungcheongbuk-do &   60 &   49 &   0\\\\\n",
       "\t12 & Chungcheongnam-do &  146 &  142 &   0\\\\\n",
       "\t13 & Jeollabuk-do      &   21 &   19 &   0\\\\\n",
       "\t14 & Jeollanam-do      &   19 &   17 &   0\\\\\n",
       "\t15 & Gyeongsangbuk-do  & 1379 & 1295 &  54\\\\\n",
       "\t16 & Gyeongsangnam-do  &  123 &  121 &   0\\\\\n",
       "\t17 & Jeju-do           &   15 &   13 &   0\\\\\n",
       "\\end{tabular}\n"
      ],
      "text/markdown": [
       "\n",
       "A data.frame: 17 × 4\n",
       "\n",
       "| <!--/--> | ï..province &lt;chr&gt; | confirmed &lt;int&gt; | released &lt;int&gt; | deceased &lt;int&gt; |\n",
       "|---|---|---|---|---|\n",
       "| 1 | Seoul             |  861 |  627 |   4 |\n",
       "| 2 | Busan             |  147 |  138 |   3 |\n",
       "| 3 | Daegu             | 6883 | 6607 | 185 |\n",
       "| 4 | Incheon           |  206 |   94 |   0 |\n",
       "| 5 | Gwangju           |   32 |   30 |   0 |\n",
       "| 6 | Daejeon           |   46 |   42 |   1 |\n",
       "| 7 | Ulsan             |   52 |   45 |   1 |\n",
       "| 8 | Sejong            |   47 |   47 |   0 |\n",
       "| 9 | Gyeonggi-do       |  840 |  650 |  19 |\n",
       "| 10 | Gangwon-do        |   57 |   50 |   3 |\n",
       "| 11 | Chungcheongbuk-do |   60 |   49 |   0 |\n",
       "| 12 | Chungcheongnam-do |  146 |  142 |   0 |\n",
       "| 13 | Jeollabuk-do      |   21 |   19 |   0 |\n",
       "| 14 | Jeollanam-do      |   19 |   17 |   0 |\n",
       "| 15 | Gyeongsangbuk-do  | 1379 | 1295 |  54 |\n",
       "| 16 | Gyeongsangnam-do  |  123 |  121 |   0 |\n",
       "| 17 | Jeju-do           |   15 |   13 |   0 |\n",
       "\n"
      ],
      "text/plain": [
       "   ï..province       confirmed released deceased\n",
       "1  Seoul              861       627       4     \n",
       "2  Busan              147       138       3     \n",
       "3  Daegu             6883      6607     185     \n",
       "4  Incheon            206        94       0     \n",
       "5  Gwangju             32        30       0     \n",
       "6  Daejeon             46        42       1     \n",
       "7  Ulsan               52        45       1     \n",
       "8  Sejong              47        47       0     \n",
       "9  Gyeonggi-do        840       650      19     \n",
       "10 Gangwon-do          57        50       3     \n",
       "11 Chungcheongbuk-do   60        49       0     \n",
       "12 Chungcheongnam-do  146       142       0     \n",
       "13 Jeollabuk-do        21        19       0     \n",
       "14 Jeollanam-do        19        17       0     \n",
       "15 Gyeongsangbuk-do  1379      1295      54     \n",
       "16 Gyeongsangnam-do   123       121       0     \n",
       "17 Jeju-do             15        13       0     "
      ]
     },
     "metadata": {},
     "output_type": "display_data"
    }
   ],
   "source": [
    "# importar datos fechas_temp\n",
    "total_provincias <- read.table('C:\\\\Users\\\\pablo\\\\COVID-19\\\\datasets\\\\TotalTimeProvince.csv', skip = 0, header = TRUE, sep =\",\")\n",
    "#total_provincias <- arrange(total_provincias, -total_provincias$confirmed) # Orden inverso\n",
    "head(total_provincias,18)"
   ]
  },
  {
   "cell_type": "markdown",
   "metadata": {},
   "source": [
    "Ver la cantidad de valores NaN en las columnas"
   ]
  },
  {
   "cell_type": "markdown",
   "metadata": {},
   "source": [
    "### ESTADÍSTICAS BÁSICAS"
   ]
  },
  {
   "cell_type": "code",
   "execution_count": 20,
   "metadata": {},
   "outputs": [
    {
     "ename": "ERROR",
     "evalue": "Error in summarise_all(total_provincias, funs(sum(is.na(.)))): no se pudo encontrar la función \"summarise_all\"\n",
     "output_type": "error",
     "traceback": [
      "Error in summarise_all(total_provincias, funs(sum(is.na(.)))): no se pudo encontrar la función \"summarise_all\"\nTraceback:\n"
     ]
    }
   ],
   "source": [
    "summarise_all(total_provincias, funs(sum(is.na(.))))"
   ]
  },
  {
   "cell_type": "code",
   "execution_count": 21,
   "metadata": {},
   "outputs": [
    {
     "data": {
      "text/plain": [
       " ï..province          confirmed         released         deceased     \n",
       " Length:17          Min.   :  15.0   Min.   :  13.0   Min.   :  0.00  \n",
       " Class :character   1st Qu.:  46.0   1st Qu.:  42.0   1st Qu.:  0.00  \n",
       " Mode  :character   Median :  60.0   Median :  50.0   Median :  0.00  \n",
       "                    Mean   : 643.2   Mean   : 587.4   Mean   : 15.88  \n",
       "                    3rd Qu.: 206.0   3rd Qu.: 142.0   3rd Qu.:  3.00  \n",
       "                    Max.   :6883.0   Max.   :6607.0   Max.   :185.00  "
      ]
     },
     "metadata": {},
     "output_type": "display_data"
    }
   ],
   "source": [
    "summary(total_provincias)"
   ]
  },
  {
   "cell_type": "code",
   "execution_count": 22,
   "metadata": {},
   "outputs": [],
   "source": [
    "# Función creada por el usuario para el cálculo de la Moda\n",
    "moda <- function(v) {\n",
    "uniqv <- unique(v)\n",
    "uniqv[which.max(tabulate(match(v, uniqv)))]}"
   ]
  },
  {
   "cell_type": "markdown",
   "metadata": {},
   "source": [
    "### ANÁLISIS CAMPO **CONFIRMED**"
   ]
  },
  {
   "cell_type": "code",
   "execution_count": 23,
   "metadata": {},
   "outputs": [
    {
     "data": {
      "text/html": [
       "861"
      ],
      "text/latex": [
       "861"
      ],
      "text/markdown": [
       "861"
      ],
      "text/plain": [
       "[1] 861"
      ]
     },
     "metadata": {},
     "output_type": "display_data"
    }
   ],
   "source": [
    "# Cálculo de la Moda\n",
    "moda(total_provincias$confirmed)"
   ]
  },
  {
   "cell_type": "markdown",
   "metadata": {},
   "source": [
    "La Media > Mediana"
   ]
  },
  {
   "cell_type": "code",
   "execution_count": 24,
   "metadata": {},
   "outputs": [
    {
     "data": {
      "text/html": [
       "<strong>25%:</strong> 46"
      ],
      "text/latex": [
       "\\textbf{25\\textbackslash{}\\%:} 46"
      ],
      "text/markdown": [
       "**25%:** 46"
      ],
      "text/plain": [
       "25% \n",
       " 46 "
      ]
     },
     "metadata": {},
     "output_type": "display_data"
    },
    {
     "data": {
      "text/html": [
       "<strong>75%:</strong> 206"
      ],
      "text/latex": [
       "\\textbf{75\\textbackslash{}\\%:} 206"
      ],
      "text/markdown": [
       "**75%:** 206"
      ],
      "text/plain": [
       "75% \n",
       "206 "
      ]
     },
     "metadata": {},
     "output_type": "display_data"
    }
   ],
   "source": [
    "quantile(total_provincias$confirmed, 0.25)\n",
    "quantile(total_provincias$confirmed, 0.75)"
   ]
  },
  {
   "cell_type": "code",
   "execution_count": 25,
   "metadata": {},
   "outputs": [
    {
     "data": {
      "image/png": "[encoded data removed]",
      "text/plain": [
       "Plot with title \"Histogram of total_provincias$confirmed\""
      ]
     },
     "metadata": {
      "image/png": {
       "height": 420,
       "width": 420
      }
     },
     "output_type": "display_data"
    }
   ],
   "source": [
    "# Creación del Histograma\n",
    "hist(total_provincias$confirmed)"
   ]
  },
  {
   "cell_type": "code",
   "execution_count": 69,
   "metadata": {},
   "outputs": [
    {
     "name": "stderr",
     "output_type": "stream",
     "text": [
      "Warning message:\n",
      "\"Use of `total_provincias$confirmed` is discouraged. Use `confirmed` instead.\"\n",
      "Warning message:\n",
      "\"Use of `total_provincias$confirmed` is discouraged. Use `confirmed` instead.\"\n",
      "Warning message:\n",
      "\"Use of `total_provincias$confirmed` is discouraged. Use `confirmed` instead.\"\n",
      "Warning message:\n",
      "\"Use of `total_provincias$confirmed` is discouraged. Use `confirmed` instead.\"\n",
      "Warning message:\n",
      "\"Use of `total_provincias$confirmed` is discouraged. Use `confirmed` instead.\"\n",
      "`stat_bin()` using `bins = 30`. Pick better value with `binwidth`.\n",
      "\n"
     ]
    },
    {
     "data": {
      "image/png": "[encoded data removed]",
      "text/plain": [
       "plot without title"
      ]
     },
     "metadata": {
      "image/png": {
       "height": 420,
       "width": 420
      }
     },
     "output_type": "display_data"
    }
   ],
   "source": [
    "RellenoBarras <- \"lightcyan2\"\n",
    "LineaBarras <- \"black\"\n",
    "\n",
    "ggplot(aes(x = total_provincias$confirmed), data = total_provincias) + \n",
    "      geom_histogram(colour = LineaBarras, fill = RellenoBarras) +\n",
    "      labs(title=\"TOTAL CASOS CONFIRMADOS POR PROVINCIA\") +\n",
    "      theme(axis.line = element_line(size=1, colour = \"black\"),\n",
    "              # Líneas de división mayores de la escala de los ejes del Gráfico de color azul\n",
    "              panel.grid.major = element_line(colour = \"darkolivegreen4\"),\n",
    "              # Líneas de división menores de la escala de los ejes del Gráfico de color blanco\n",
    "              panel.grid.minor = element_blank(),\n",
    "              # Bordes dl Gráfico de color Blanco\n",
    "              panel.border = element_blank(), panel.background = element_blank(),\n",
    "              # Formato Título: Tamaños 14 y Negrita\n",
    "              plot.title = element_text(size = 14, face = \"bold\"),\n",
    "              # Eje X de color negro. Tamaño fuente 9\n",
    "              axis.text.x=element_text(colour=\"black\", size = 9),\n",
    "              # Ponemos la leyenda en la parte infrior\n",
    "              legend.position=\"bottom\",\n",
    "              # Texto de la leyenda n azul. Tamaño de fuent 9\n",
    "              legend.text=element_text(colour=\"blue\",size=9),\n",
    "              # Eje Y de color negro. Tamaño fuente 9\n",
    "              axis.text.y=element_text(colour=\"black\", size = 9))+\n",
    "\n",
    "# Mostrar la Mediana\n",
    "      geom_vline(aes(xintercept=median(total_provincias$confirmed),\n",
    "                 color=\"mediana\"), linetype=\"dashed\",\n",
    "             size=1) +\n",
    "# Mostrar la Media\n",
    "      geom_vline(aes(xintercept = mean(total_provincias$confirmed),\n",
    "                 color=\"media\"), linetype=\"dashed\",\n",
    "             size=1) +\n",
    "# Mostrar el Cuantil 25\n",
    "      geom_vline(aes(xintercept = quantile(total_provincias$confirmed, 0.25),\n",
    "                 color=\"cuantil_25\"), linetype=\"dashed\",\n",
    "             size=1) +\n",
    "# Mostrar el Cuantil 75\n",
    "      geom_vline(aes(xintercept = quantile(total_provincias$confirmed, 0.75),\n",
    "                 color=\"cuantil_75\"), linetype=\"dashed\",\n",
    "             size=1) +\n",
    "# Nombre d la Leyenda ·Estadísticas\". Colores de las medidas: Medina (Azul), Media (Rojo), Cuantil 25 (Negro)\n",
    "# y Cuantil 75 (Naranja) \n",
    "        scale_color_manual(name = \"Estadísticas\", values = c(mediana = \"blue\", media = \"red\", cuantil_25 = \"black\", \n",
    "                                                     cuantil_75 = \"orange\"))+\n",
    "# Texto del eje X \"TOTAL CASOS CONFIRMADOS POR PROVINCIA\" y del eje Y \"Nº DE CASOS\"\n",
    "  xlab(\"CASOS CONFIRMADOS POR PROVINCIA\") + ylab(\"Nº DE CASOS\")"
   ]
  },
  {
   "cell_type": "code",
   "execution_count": 71,
   "metadata": {},
   "outputs": [
    {
     "name": "stderr",
     "output_type": "stream",
     "text": [
      "Warning message:\n",
      "\"Use of `total_provincias$confirmed` is discouraged. Use `confirmed` instead.\"\n",
      "Warning message:\n",
      "\"Use of `total_provincias$confirmed` is discouraged. Use `confirmed` instead.\"\n",
      "Warning message:\n",
      "\"Use of `total_provincias$confirmed` is discouraged. Use `confirmed` instead.\"\n",
      "Warning message:\n",
      "\"Use of `total_provincias$confirmed` is discouraged. Use `confirmed` instead.\"\n",
      "`stat_bin()` using `bins = 30`. Pick better value with `binwidth`.\n",
      "\n"
     ]
    },
    {
     "data": {
      "image/png": "[encoded data removed]",
      "text/plain": [
       "plot without title"
      ]
     },
     "metadata": {
      "image/png": {
       "height": 420,
       "width": 420
      }
     },
     "output_type": "display_data"
    }
   ],
   "source": [
    "# Histogram with density plot\n",
    "ggplot(total_provincias, aes(x=total_provincias$confirmed)) + \n",
    "     geom_histogram(aes(y=..density..), colour=\"black\", fill=\"lightcyan2\")+\n",
    "     geom_density(alpha=.2, fill=\"#FF6666\") +\n",
    "     geom_vline(aes(xintercept=median(total_provincias$confirmed)),color=\"black\", linetype=\"dashed\") + \n",
    "     geom_vline(aes(xintercept=mean(total_provincias$confirmed)),color=\"red\", linetype=\"dashed\") +\n",
    "     labs(title=\"TOTAL CASOS CONFIRMADOS POR PROVINCIA\") + xlab(\"Nº DE CASOS\")"
   ]
  },
  {
   "cell_type": "markdown",
   "metadata": {},
   "source": [
    "Esta misma información también se puede visualizar con un boxplot"
   ]
  },
  {
   "cell_type": "markdown",
   "metadata": {},
   "source": [
    "Vamos a ver los elementos de un Boxplot, y que información nos dan:\n",
    "- La línea inferior de la caja es el Cuantil 25\n",
    "- La línea superior de la caja es el Cuantil 75\n",
    "- La línea interior de la caja es la mediana. Al no estar en el centro de la caja, y más cerca de la parte inferior de la caja, no es simétrica, y nos indica que hay un sesgo hacía la derecha, es decir, la distribución teien una pequeña cola hacia la derecha.\n",
    "- Las líneas verticales, arriba y abajo de la caja, son los bigotes, y se extienden hasta los valores máximo y mínimo de los valores o hasta 1,5 veces el RIC (rango intercuartílico)- Cuando los datos se extienden más allá de esto, significa que hay valores atípicos en la serie y entonces hay que calcular los límites superior e inferior, Li y Ls. Para ello, se consideran atípicos los valores inferiores a Q1–1.5·RIC o superiores a Q3+1.5·RIC.\n",
    "- Los puntos que vemos fuera de los bigotes, son datos atípicos"
   ]
  },
  {
   "cell_type": "code",
   "execution_count": 30,
   "metadata": {},
   "outputs": [
    {
     "name": "stderr",
     "output_type": "stream",
     "text": [
      "Warning message:\n",
      "\"Use of `total_provincias$confirmed` is discouraged. Use `confirmed` instead.\"\n",
      "Warning message:\n",
      "\"Use of `total_provincias$confirmed` is discouraged. Use `confirmed` instead.\"\n",
      "Warning message:\n",
      "\"Use of `total_provincias$confirmed` is discouraged. Use `confirmed` instead.\"\n"
     ]
    },
    {
     "data": {
      "image/png": "[encoded data removed]",
      "text/plain": [
       "plot without title"
      ]
     },
     "metadata": {
      "image/png": {
       "height": 420,
       "width": 420
      }
     },
     "output_type": "display_data"
    }
   ],
   "source": [
    "# Creamos dos variables para poner el color de relleno de la caja, y el color del borde de la caja Estas variables\n",
    "# serán pasadas en la geometría\n",
    "relleno <- \"lightblue3\"\n",
    "linea <- \"midnightblue\"\n",
    "\n",
    "bp2 <- ggplot(total_provincias, aes(x = \"\", y = total_provincias$confirmed)) +\n",
    "        # Mostramos los Outliers con forma de cuadrado, y de color verde\n",
    "        geom_boxplot(fill = relleno, colour = linea,outlier.colour = \"green\", outlier.size = 6,outlier.shape = 22) +\n",
    "        scale_y_continuous(name = \"Nº DE CASOS\") + \n",
    "        scale_x_discrete(name = \"CASOS CONFIRMADOS POR PROVINCIA\") +\n",
    "        ggtitle(\"TOTAL CASOS CONFIRMADOS POR PROVINCIA\") +\n",
    "        # Ponemos color Negro a los ejes X e Y\n",
    "        theme(axis.line.x = element_line(size = 0.5, colour = \"black\"),\n",
    "              axis.line.y = element_line(size = 0.5, colour = \"black\"),\n",
    "              axis.title = element_text(size = 12),\n",
    "              # Ponemos título al Gráficco\n",
    "              legend.text = element_text(size = 9),\n",
    "              legend.title=element_text(face = \"bold\", size = 9),\n",
    "              # Mostramos la escala mayor\n",
    "              panel.grid.major = element_line(colour = \"snow3\"),\n",
    "              panel.grid.minor = element_blank(),\n",
    "              panel.border = element_blank(),\n",
    "              #Ponrmos Blanco como color de fondo del Gráfico\n",
    "              panel.background = element_blank()) +\n",
    "          # Mostramos los valores de los Anchos de Sépalo\n",
    "          geom_text(aes(label=total_provincias$confirmed),hjust=0,nudge_x=0.05,color=\"blue\",size=3)\n",
    "\n",
    "bp2"
   ]
  },
  {
   "cell_type": "markdown",
   "metadata": {},
   "source": [
    "Si analizamos el Histograma y el Boxplot, podemos ver que hay varios valores atípicos, sobre todo uno: **6883**, que corresponde  la provincia de **Daegu**. Este valor se pude decir que es un Outlier, ya que está fuera del alcance de los bigotes del Boxplot."
   ]
  },
  {
   "cell_type": "markdown",
   "metadata": {},
   "source": [
    "A partir de todo lo que hemos analizado, podemos sacar diferentes conclusiones sobre la forma de la distribución:\n",
    "\n",
    "- Conclusión 1: gracias al histograma, y aunque la mediana está muy cercana a la media, vemos que la distribución está sesgada hacía la\n",
    "derecha, es decir, existe una pequeña cola a la derecha, por lo tanto, no tenemos una distribución normal o simétrica. Esto podremos\n",
    "analizarlo en detalle cuando veamos las medidas de simetría.\n",
    "- Conclusión 2: los cuantiles 25 y 75, no están a la misma distancia de la mediana (Ver BoxPlot). Hay una mayor distancia entre el cuantil 75 y la\n",
    "mediana, que entre el cuantil 25 y la mediana (Ver BoxPlot). Esto último puede significar que hay un mayor apelotonamiento de los datos.\n",
    "en esta zona.\n",
    "- Conclusión 3: debido a todo esto parece que estemos ante una asimetría positiva.\n",
    "- Conclusión 4: tenemos un dato atípico (outliers) que, si lo eliminaremos, la distribución podría ser simétrica. Esto será analizado más adelante.\n"
   ]
  },
  {
   "cell_type": "markdown",
   "metadata": {},
   "source": [
    "# Medidas de Dispersión"
   ]
  },
  {
   "cell_type": "markdown",
   "metadata": {},
   "source": [
    "Con la Medidas de Dispersión, podremos analizar la dispersión de los datos, es decir, vamos a medir lo lejos o cerca que están los valores respecto a la media.\n",
    "\n",
    "Varianza: La varianza nos va a servir para determinar la dispersión de los valores de la variable alrededor de la media. Así, si los valores están alejados de su valor medio, la varianza será grande y si están muy próximos a ella, la varianza será pequeña y podremos intuir que las medidas están concentradas alrededor de la media.\n",
    "\n",
    "De la misma manera que ocurre con la media es muy sensible de datos extremos y cuanto más se acerque su valor a cero podemos deducir que los datos están más concentrados alrededor de la media de la variable aleatoria"
   ]
  },
  {
   "cell_type": "code",
   "execution_count": 28,
   "metadata": {},
   "outputs": [
    {
     "data": {
      "text/html": [
       "2738011.15441176"
      ],
      "text/latex": [
       "2738011.15441176"
      ],
      "text/markdown": [
       "2738011.15441176"
      ],
      "text/plain": [
       "[1] 2738011"
      ]
     },
     "metadata": {},
     "output_type": "display_data"
    }
   ],
   "source": [
    "# Cálculo de la varianza\n",
    "var(total_provincias$confirmed)"
   ]
  },
  {
   "cell_type": "code",
   "execution_count": 29,
   "metadata": {},
   "outputs": [
    {
     "data": {
      "text/html": [
       "1654.69367389005"
      ],
      "text/latex": [
       "1654.69367389005"
      ],
      "text/markdown": [
       "1654.69367389005"
      ],
      "text/plain": [
       "[1] 1654.694"
      ]
     },
     "metadata": {},
     "output_type": "display_data"
    }
   ],
   "source": [
    "# Cálculo de la desviación Típica\n",
    "sd(total_provincias$confirmed)"
   ]
  },
  {
   "cell_type": "markdown",
   "metadata": {},
   "source": [
    "# Medidas de Forma"
   ]
  },
  {
   "cell_type": "markdown",
   "metadata": {},
   "source": [
    "La asimetría será un indicador sobre el aspecto que tiene una distribución utilizando como eje el valor que pasa por la media, podemos verlo como una manera de matematizar algo que podríamos analizar dibujando las frecuencias de la variable. Diremos que una distribución es simétrica; si a misma distancia de la media, a ambos lados, las frecuencias son parecidas. El ejemplo más evidente de distribución simétrica sería la normal.\n",
    "\n",
    "En el caso en el que no exista simetría, las asimetrías las podremos clasificar en dos grupos:\n",
    "\n",
    "- Asimetría positiva: si la cola a la derecha de la media es más larga que la izquierda.\n",
    "- Asimetría negativa: si la cola a la izquierda de la media es más larga que a la derecha.\n",
    "\n",
    "Coeficiente de Simetría: La primera medida de forma que vamos a ver será el coeficiente de simetría, que nos dará información sobre si la distribución está centrada o si presenta colas a alguno de los dos lados:"
   ]
  },
  {
   "cell_type": "code",
   "execution_count": 79,
   "metadata": {},
   "outputs": [],
   "source": [
    "# install.packages(\"e1071\")\n",
    "library(e1071)"
   ]
  },
  {
   "cell_type": "code",
   "execution_count": 31,
   "metadata": {},
   "outputs": [
    {
     "data": {
      "text/html": [
       "3.12784445614547"
      ],
      "text/latex": [
       "3.12784445614547"
      ],
      "text/markdown": [
       "3.12784445614547"
      ],
      "text/plain": [
       "[1] 3.127844"
      ]
     },
     "metadata": {},
     "output_type": "display_data"
    }
   ],
   "source": [
    "# Cálculo del Coeficiente de Simetría\n",
    "skewness(total_provincias$confirmed)"
   ]
  },
  {
   "cell_type": "markdown",
   "metadata": {},
   "source": [
    "Como era de esperar, tenemos simetría > 0, lo cual nos informa de que la distribución presenta un sesgo hacía la derecha. ASIMETRIA POSITIVA\n",
    "\n",
    "Nota: en una Distribución Normal, tendríamos un valor 0 o cercano al 0.\n",
    "\n",
    "Vamos a hacer el test de Shapiro-Wilk, buscando un valor p mayor a 0,05"
   ]
  },
  {
   "cell_type": "code",
   "execution_count": 32,
   "metadata": {},
   "outputs": [
    {
     "data": {
      "text/plain": [
       "\n",
       "\tShapiro-Wilk normality test\n",
       "\n",
       "data:  total_provincias$confirmed\n",
       "W = 0.4173, p-value = 2.777e-07\n"
      ]
     },
     "metadata": {},
     "output_type": "display_data"
    }
   ],
   "source": [
    "#Prueba de Shapiro Wilk (muestras pequeñas)\n",
    "shapiro.test(total_provincias$confirmed)"
   ]
  },
  {
   "cell_type": "markdown",
   "metadata": {},
   "source": [
    "Vemos que p-value < 0. Lo cual también corrobora prácticamente la asimetría\n",
    "\n",
    "Kurtosis: La curtosis (o apuntamiento) es una medida de forma que mide cuán escarpada o achatada está una curva o distribución. Mide el apuntamiento que presenta la distribución alrededor de la media. Este coeficiente indica la cantidad de datos que hay cercanos a la media, de manera que a mayor grado de curtosis, más escarpada (o apuntada) será la forma de la curva"
   ]
  },
  {
   "cell_type": "code",
   "execution_count": 33,
   "metadata": {},
   "outputs": [
    {
     "data": {
      "text/html": [
       "8.90875966757197"
      ],
      "text/latex": [
       "8.90875966757197"
      ],
      "text/markdown": [
       "8.90875966757197"
      ],
      "text/plain": [
       "[1] 8.90876"
      ]
     },
     "metadata": {},
     "output_type": "display_data"
    }
   ],
   "source": [
    "# Cálculo de la Kurtosis\n",
    "kurtosis(total_provincias$confirmed)"
   ]
  },
  {
   "cell_type": "markdown",
   "metadata": {},
   "source": [
    "Si el coeficiente es positivo, la distribución se llama leptocúrtica, más puntiaguda. Hay una mayor concentración de los datos en torno a la media"
   ]
  },
  {
   "cell_type": "markdown",
   "metadata": {},
   "source": [
    "### ANÁLISIS CAMPO **DECEASED**"
   ]
  },
  {
   "cell_type": "code",
   "execution_count": 63,
   "metadata": {},
   "outputs": [
    {
     "data": {
      "text/html": [
       "0"
      ],
      "text/latex": [
       "0"
      ],
      "text/markdown": [
       "0"
      ],
      "text/plain": [
       "[1] 0"
      ]
     },
     "metadata": {},
     "output_type": "display_data"
    }
   ],
   "source": [
    "# Cálculo de la Moda\n",
    "moda(total_provincias$deceased)"
   ]
  },
  {
   "cell_type": "markdown",
   "metadata": {},
   "source": [
    "La Media > Mediana > Moda"
   ]
  },
  {
   "cell_type": "code",
   "execution_count": 66,
   "metadata": {},
   "outputs": [
    {
     "data": {
      "text/html": [
       "<strong>25%:</strong> 0"
      ],
      "text/latex": [
       "\\textbf{25\\textbackslash{}\\%:} 0"
      ],
      "text/markdown": [
       "**25%:** 0"
      ],
      "text/plain": [
       "25% \n",
       "  0 "
      ]
     },
     "metadata": {},
     "output_type": "display_data"
    },
    {
     "data": {
      "text/html": [
       "<strong>75%:</strong> 3"
      ],
      "text/latex": [
       "\\textbf{75\\textbackslash{}\\%:} 3"
      ],
      "text/markdown": [
       "**75%:** 3"
      ],
      "text/plain": [
       "75% \n",
       "  3 "
      ]
     },
     "metadata": {},
     "output_type": "display_data"
    }
   ],
   "source": [
    "quantile(total_provincias$deceased, 0.25)\n",
    "quantile(total_provincias$deceased, 0.75)"
   ]
  },
  {
   "cell_type": "code",
   "execution_count": 65,
   "metadata": {},
   "outputs": [
    {
     "data": {
      "image/png": "[encoded data removed]",
      "text/plain": [
       "Plot with title \"Histogram of total_provincias$deceased\""
      ]
     },
     "metadata": {
      "image/png": {
       "height": 420,
       "width": 420
      }
     },
     "output_type": "display_data"
    }
   ],
   "source": [
    "# Creación del Histograma\n",
    "hist(total_provincias$deceased)"
   ]
  },
  {
   "cell_type": "code",
   "execution_count": 67,
   "metadata": {},
   "outputs": [
    {
     "name": "stderr",
     "output_type": "stream",
     "text": [
      "Warning message:\n",
      "\"Use of `total_provincias$deceased` is discouraged. Use `deceased` instead.\"\n",
      "Warning message:\n",
      "\"Use of `total_provincias$deceased` is discouraged. Use `deceased` instead.\"\n",
      "Warning message:\n",
      "\"Use of `total_provincias$deceased` is discouraged. Use `deceased` instead.\"\n",
      "Warning message:\n",
      "\"Use of `total_provincias$deceased` is discouraged. Use `deceased` instead.\"\n",
      "Warning message:\n",
      "\"Use of `total_provincias$deceased` is discouraged. Use `deceased` instead.\"\n",
      "`stat_bin()` using `bins = 30`. Pick better value with `binwidth`.\n",
      "\n"
     ]
    },
    {
     "data": {
      "image/png": "[encoded data removed]",
      "text/plain": [
       "plot without title"
      ]
     },
     "metadata": {
      "image/png": {
       "height": 420,
       "width": 420
      }
     },
     "output_type": "display_data"
    }
   ],
   "source": [
    "RellenoBarras <- \"lightcyan2\"\n",
    "LineaBarras <- \"black\"\n",
    "\n",
    "ggplot(aes(x = total_provincias$deceased), data = total_provincias) + \n",
    "      geom_histogram(colour = LineaBarras, fill = RellenoBarras) +\n",
    "      labs(title=\"TOTAL CASOS FALLECIDOS POR PROVINCIA\") +\n",
    "      theme(axis.line = element_line(size=1, colour = \"black\"),\n",
    "              # Líneas de división mayores de la escala de los ejes del Gráfico de color azul\n",
    "              panel.grid.major = element_line(colour = \"darkolivegreen4\"),\n",
    "              # Líneas de división menores de la escala de los ejes del Gráfico de color blanco\n",
    "              panel.grid.minor = element_blank(),\n",
    "              # Bordes dl Gráfico de color Blanco\n",
    "              panel.border = element_blank(), panel.background = element_blank(),\n",
    "              # Formato Título: Tamaños 14 y Negrita\n",
    "              plot.title = element_text(size = 14, face = \"bold\"),\n",
    "              # Eje X de color negro. Tamaño fuente 9\n",
    "              axis.text.x=element_text(colour=\"black\", size = 9),\n",
    "              # Ponemos la leyenda en la parte infrior\n",
    "              legend.position=\"bottom\",\n",
    "              # Texto de la leyenda n azul. Tamaño de fuent 9\n",
    "              legend.text=element_text(colour=\"blue\",size=9),\n",
    "              # Eje Y de color negro. Tamaño fuente 9\n",
    "              axis.text.y=element_text(colour=\"black\", size = 9))+\n",
    "\n",
    "# Mostrar la Mediana\n",
    "      geom_vline(aes(xintercept=median(total_provincias$deceased),\n",
    "                 color=\"mediana\"), linetype=\"dashed\",\n",
    "             size=1) +\n",
    "# Mostrar la Media\n",
    "      geom_vline(aes(xintercept = mean(total_provincias$deceased),\n",
    "                 color=\"media\"), linetype=\"dashed\",\n",
    "             size=1) +\n",
    "# Mostrar el Cuantil 25\n",
    "      geom_vline(aes(xintercept = quantile(total_provincias$deceased, 0.25),\n",
    "                 color=\"cuantil_25\"), linetype=\"dashed\",\n",
    "             size=1) +\n",
    "# Mostrar el Cuantil 75\n",
    "      geom_vline(aes(xintercept = quantile(total_provincias$deceased, 0.75),\n",
    "                 color=\"cuantil_75\"), linetype=\"dashed\",\n",
    "             size=1) +\n",
    "# Nombre d la Leyenda ·Estadísticas\". Colores de las medidas: Medina (Azul), Media (Rojo), Cuantil 25 (Negro)\n",
    "# y Cuantil 75 (Naranja) \n",
    "        scale_color_manual(name = \"Estadísticas\", values = c(mediana = \"blue\", media = \"red\", cuantil_25 = \"black\", \n",
    "                                                     cuantil_75 = \"orange\"))+\n",
    "# Texto del eje X \"TOTAL CASOS FALLECIDOS POR PROVINCIA\" y del eje Y \"Nº DE CASOS\"\n",
    "  xlab(\"CASOS FALLECIFOS POR PROVINCIA\") + ylab(\"Nº DE CASOS\")"
   ]
  },
  {
   "cell_type": "code",
   "execution_count": 70,
   "metadata": {},
   "outputs": [
    {
     "name": "stderr",
     "output_type": "stream",
     "text": [
      "Warning message:\n",
      "\"Use of `total_provincias$deceased` is discouraged. Use `deceased` instead.\"\n",
      "Warning message:\n",
      "\"Use of `total_provincias$deceased` is discouraged. Use `deceased` instead.\"\n",
      "Warning message:\n",
      "\"Use of `total_provincias$deceased` is discouraged. Use `deceased` instead.\"\n",
      "Warning message:\n",
      "\"Use of `total_provincias$deceased` is discouraged. Use `deceased` instead.\"\n",
      "`stat_bin()` using `bins = 30`. Pick better value with `binwidth`.\n",
      "\n"
     ]
    },
    {
     "data": {
      "image/png": "[encoded data removed]",
      "text/plain": [
       "plot without title"
      ]
     },
     "metadata": {
      "image/png": {
       "height": 420,
       "width": 420
      }
     },
     "output_type": "display_data"
    }
   ],
   "source": [
    "# Histogram with density plot\n",
    "ggplot(total_provincias, aes(x=total_provincias$deceased)) + \n",
    "     geom_histogram(aes(y=..density..), colour=\"black\", fill=\"lightcyan2\")+\n",
    "     geom_density(alpha=.2, fill=\"#FF6666\") +\n",
    "     geom_vline(aes(xintercept=median(total_provincias$deceased)),color=\"black\", linetype=\"dashed\") + \n",
    "     geom_vline(aes(xintercept=mean(total_provincias$deceased)),color=\"red\", linetype=\"dashed\") +\n",
    "     labs(title=\"TOTAL CASOS FALLECIDOS POR PROVINCIA\") + xlab(\"Nº DE CASOS\")"
   ]
  },
  {
   "cell_type": "code",
   "execution_count": 72,
   "metadata": {},
   "outputs": [
    {
     "name": "stderr",
     "output_type": "stream",
     "text": [
      "Warning message:\n",
      "\"Use of `total_provincias$deceased` is discouraged. Use `deceased` instead.\"\n",
      "Warning message:\n",
      "\"Use of `total_provincias$deceased` is discouraged. Use `deceased` instead.\"\n",
      "Warning message:\n",
      "\"Use of `total_provincias$deceased` is discouraged. Use `deceased` instead.\"\n"
     ]
    },
    {
     "data": {
      "image/png": "[encoded data removed]",
      "text/plain": [
       "plot without title"
      ]
     },
     "metadata": {
      "image/png": {
       "height": 420,
       "width": 420
      }
     },
     "output_type": "display_data"
    }
   ],
   "source": [
    "# Creamos dos variables para poner el color de relleno de la caja, y el color del borde de la caja Estas variables\n",
    "# serán pasadas en la geometría\n",
    "relleno <- \"lightblue3\"\n",
    "linea <- \"midnightblue\"\n",
    "\n",
    "bp2 <- ggplot(total_provincias, aes(x = \"\", y = total_provincias$deceased)) +\n",
    "        # Mostramos los Outliers con forma de cuadrado, y de color verde\n",
    "        geom_boxplot(fill = relleno, colour = linea,outlier.colour = \"green\", outlier.size = 6,outlier.shape = 22) +\n",
    "        scale_y_continuous(name = \"Nº DE CASOS\") + \n",
    "        scale_x_discrete(name = \"CASOS FALLECIDOS POR PROVINCIA\") +\n",
    "        ggtitle(\"TOTAL CASOS FALLECIDOS POR PROVINCIA\") +\n",
    "        # Ponemos color Negro a los ejes X e Y\n",
    "        theme(axis.line.x = element_line(size = 0.5, colour = \"black\"),\n",
    "              axis.line.y = element_line(size = 0.5, colour = \"black\"),\n",
    "              axis.title = element_text(size = 12),\n",
    "              # Ponemos título al Gráficco\n",
    "              legend.text = element_text(size = 9),\n",
    "              legend.title=element_text(face = \"bold\", size = 9),\n",
    "              # Mostramos la escala mayor\n",
    "              panel.grid.major = element_line(colour = \"snow3\"),\n",
    "              panel.grid.minor = element_blank(),\n",
    "              panel.border = element_blank(),\n",
    "              #Ponrmos Blanco como color de fondo del Gráfico\n",
    "              panel.background = element_blank()) +\n",
    "          # Mostramos los valores de los Anchos de Sépalo\n",
    "          geom_text(aes(label=total_provincias$deceased),hjust=0,nudge_x=0.05,color=\"blue\",size=3)\n",
    "\n",
    "bp2"
   ]
  },
  {
   "cell_type": "markdown",
   "metadata": {},
   "source": [
    "## DATOS DE CASOS POR TEST REALIZADOS - FICHERO TIME.CSV"
   ]
  },
  {
   "cell_type": "markdown",
   "metadata": {},
   "source": [
    "Cargamos los datos de casos agupados por Test realizados por Mes"
   ]
  },
  {
   "cell_type": "code",
   "execution_count": 37,
   "metadata": {},
   "outputs": [
    {
     "data": {
      "text/html": [
       "<table class=\"dataframe\">\n",
       "<caption>A data.frame: 5 × 6</caption>\n",
       "<thead>\n",
       "\t<tr><th></th><th scope=col>ï..month</th><th scope=col>test</th><th scope=col>negative</th><th scope=col>confirmed</th><th scope=col>released</th><th scope=col>deceased</th></tr>\n",
       "\t<tr><th></th><th scope=col>&lt;chr&gt;</th><th scope=col>&lt;int&gt;</th><th scope=col>&lt;int&gt;</th><th scope=col>&lt;int&gt;</th><th scope=col>&lt;int&gt;</th><th scope=col>&lt;int&gt;</th></tr>\n",
       "</thead>\n",
       "<tbody>\n",
       "\t<tr><th scope=row>1</th><td>January </td><td>   312</td><td>   313</td><td> 314</td><td> 315</td><td> 316</td></tr>\n",
       "\t<tr><th scope=row>2</th><td>February</td><td> 93743</td><td> 55410</td><td>2836</td><td>-287</td><td>-299</td></tr>\n",
       "\t<tr><th scope=row>3</th><td>March   </td><td>316509</td><td>328163</td><td>6636</td><td>5380</td><td> 145</td></tr>\n",
       "\t<tr><th scope=row>4</th><td>April   </td><td>209317</td><td>216596</td><td> 979</td><td>3651</td><td>  85</td></tr>\n",
       "\t<tr><th scope=row>5</th><td>May     </td><td>290941</td><td>275578</td><td> 703</td><td>1346</td><td>  23</td></tr>\n",
       "</tbody>\n",
       "</table>\n"
      ],
      "text/latex": [
       "A data.frame: 5 × 6\n",
       "\\begin{tabular}{r|llllll}\n",
       "  & ï..month & test & negative & confirmed & released & deceased\\\\\n",
       "  & <chr> & <int> & <int> & <int> & <int> & <int>\\\\\n",
       "\\hline\n",
       "\t1 & January  &    312 &    313 &  314 &  315 &  316\\\\\n",
       "\t2 & February &  93743 &  55410 & 2836 & -287 & -299\\\\\n",
       "\t3 & March    & 316509 & 328163 & 6636 & 5380 &  145\\\\\n",
       "\t4 & April    & 209317 & 216596 &  979 & 3651 &   85\\\\\n",
       "\t5 & May      & 290941 & 275578 &  703 & 1346 &   23\\\\\n",
       "\\end{tabular}\n"
      ],
      "text/markdown": [
       "\n",
       "A data.frame: 5 × 6\n",
       "\n",
       "| <!--/--> | ï..month &lt;chr&gt; | test &lt;int&gt; | negative &lt;int&gt; | confirmed &lt;int&gt; | released &lt;int&gt; | deceased &lt;int&gt; |\n",
       "|---|---|---|---|---|---|---|\n",
       "| 1 | January  |    312 |    313 |  314 |  315 |  316 |\n",
       "| 2 | February |  93743 |  55410 | 2836 | -287 | -299 |\n",
       "| 3 | March    | 316509 | 328163 | 6636 | 5380 |  145 |\n",
       "| 4 | April    | 209317 | 216596 |  979 | 3651 |   85 |\n",
       "| 5 | May      | 290941 | 275578 |  703 | 1346 |   23 |\n",
       "\n"
      ],
      "text/plain": [
       "  ï..month test   negative confirmed released deceased\n",
       "1 January     312    313    314       315      316    \n",
       "2 February  93743  55410   2836      -287     -299    \n",
       "3 March    316509 328163   6636      5380      145    \n",
       "4 April    209317 216596    979      3651       85    \n",
       "5 May      290941 275578    703      1346       23    "
      ]
     },
     "metadata": {},
     "output_type": "display_data"
    }
   ],
   "source": [
    "# importar datos fechas_temp\n",
    "total_test <- read.table('C:\\\\Users\\\\pablo\\\\COVID-19\\\\datasets\\\\TotalTimeMonth.csv', skip = 0, header = TRUE, sep =\",\")\n",
    "head(total_test)"
   ]
  },
  {
   "cell_type": "markdown",
   "metadata": {},
   "source": [
    "Ver la cantidad de valores NaN en las columnas"
   ]
  },
  {
   "cell_type": "code",
   "execution_count": 41,
   "metadata": {},
   "outputs": [
    {
     "data": {
      "text/html": [
       "<table>\n",
       "<thead><tr><th scope=col>ï..month</th><th scope=col>test</th><th scope=col>negative</th><th scope=col>confirmed</th><th scope=col>released</th><th scope=col>deceased</th></tr></thead>\n",
       "<tbody>\n",
       "\t<tr><td>0</td><td>0</td><td>0</td><td>0</td><td>0</td><td>0</td></tr>\n",
       "</tbody>\n",
       "</table>\n"
      ],
      "text/latex": [
       "\\begin{tabular}{r|llllll}\n",
       " ï..month & test & negative & confirmed & released & deceased\\\\\n",
       "\\hline\n",
       "\t 0 & 0 & 0 & 0 & 0 & 0\\\\\n",
       "\\end{tabular}\n"
      ],
      "text/markdown": [
       "\n",
       "| ï..month | test | negative | confirmed | released | deceased |\n",
       "|---|---|---|---|---|---|\n",
       "| 0 | 0 | 0 | 0 | 0 | 0 |\n",
       "\n"
      ],
      "text/plain": [
       "  ï..month test negative confirmed released deceased\n",
       "1 0        0    0        0         0        0       "
      ]
     },
     "metadata": {},
     "output_type": "display_data"
    }
   ],
   "source": [
    "summarise_all(total_test, funs(sum(is.na(.))))"
   ]
  },
  {
   "cell_type": "markdown",
   "metadata": {},
   "source": [
    "# Medidas de Tendencia Central"
   ]
  },
  {
   "cell_type": "code",
   "execution_count": 38,
   "metadata": {},
   "outputs": [
    {
     "data": {
      "text/plain": [
       "   ï..month              test           negative        confirmed   \n",
       " Length:5           Min.   :   312   Min.   :   313   Min.   : 314  \n",
       " Class :character   1st Qu.: 93743   1st Qu.: 55410   1st Qu.: 703  \n",
       " Mode  :character   Median :209317   Median :216596   Median : 979  \n",
       "                    Mean   :182164   Mean   :175212   Mean   :2294  \n",
       "                    3rd Qu.:290941   3rd Qu.:275578   3rd Qu.:2836  \n",
       "                    Max.   :316509   Max.   :328163   Max.   :6636  \n",
       "    released       deceased   \n",
       " Min.   :-287   Min.   :-299  \n",
       " 1st Qu.: 315   1st Qu.:  23  \n",
       " Median :1346   Median :  85  \n",
       " Mean   :2081   Mean   :  54  \n",
       " 3rd Qu.:3651   3rd Qu.: 145  \n",
       " Max.   :5380   Max.   : 316  "
      ]
     },
     "metadata": {},
     "output_type": "display_data"
    }
   ],
   "source": [
    "summary(total_test)"
   ]
  },
  {
   "cell_type": "code",
   "execution_count": 39,
   "metadata": {},
   "outputs": [],
   "source": [
    "# Función creada por el usuario para el cálculo de la Moda\n",
    "moda <- function(v) {\n",
    "uniqv <- unique(v)\n",
    "uniqv[which.max(tabulate(match(v, uniqv)))]}"
   ]
  },
  {
   "cell_type": "code",
   "execution_count": 40,
   "metadata": {},
   "outputs": [
    {
     "data": {
      "text/html": [
       "312"
      ],
      "text/latex": [
       "312"
      ],
      "text/markdown": [
       "312"
      ],
      "text/plain": [
       "[1] 312"
      ]
     },
     "metadata": {},
     "output_type": "display_data"
    }
   ],
   "source": [
    "# Cálculo de la Moda\n",
    "moda(total_test$test)"
   ]
  },
  {
   "cell_type": "code",
   "execution_count": 41,
   "metadata": {},
   "outputs": [
    {
     "data": {
      "text/html": [
       "<strong>25%:</strong> 93743"
      ],
      "text/latex": [
       "\\textbf{25\\textbackslash{}\\%:} 93743"
      ],
      "text/markdown": [
       "**25%:** 93743"
      ],
      "text/plain": [
       "  25% \n",
       "93743 "
      ]
     },
     "metadata": {},
     "output_type": "display_data"
    },
    {
     "data": {
      "text/html": [
       "<strong>75%:</strong> 290941"
      ],
      "text/latex": [
       "\\textbf{75\\textbackslash{}\\%:} 290941"
      ],
      "text/markdown": [
       "**75%:** 290941"
      ],
      "text/plain": [
       "   75% \n",
       "290941 "
      ]
     },
     "metadata": {},
     "output_type": "display_data"
    }
   ],
   "source": [
    "quantile(total_test$test, 0.25)\n",
    "quantile(total_test$test, 0.75)"
   ]
  },
  {
   "cell_type": "code",
   "execution_count": 44,
   "metadata": {},
   "outputs": [
    {
     "data": {
      "image/png": "[encoded data removed]",
      "text/plain": [
       "Plot with title \"Histogram of total_test$test\""
      ]
     },
     "metadata": {},
     "output_type": "display_data"
    }
   ],
   "source": [
    "# Creación del Histograma\n",
    "hist(total_test$test)"
   ]
  },
  {
   "cell_type": "code",
   "execution_count": 45,
   "metadata": {},
   "outputs": [
    {
     "name": "stderr",
     "output_type": "stream",
     "text": [
      "`stat_bin()` using `bins = 30`. Pick better value with `binwidth`.\n"
     ]
    },
    {
     "data": {
      "image/png": "[encoded data removed]",
      "text/plain": [
       "plot without title"
      ]
     },
     "metadata": {},
     "output_type": "display_data"
    }
   ],
   "source": [
    "RellenoBarras <- \"lightcyan2\"\n",
    "LineaBarras <- \"black\"\n",
    "\n",
    "ggplot(aes(x = total_test$test), data = total_test) + \n",
    "      geom_histogram(colour = LineaBarras, fill = RellenoBarras) +\n",
    "      labs(title=\"TOTAL TEST REALIZADOS POR MES\") +\n",
    "      theme(axis.line = element_line(size=1, colour = \"black\"),\n",
    "              # Líneas de división mayores de la escala de los ejes del Gráfico de color azul\n",
    "              panel.grid.major = element_line(colour = \"darkolivegreen4\"),\n",
    "              # Líneas de división menores de la escala de los ejes del Gráfico de color blanco\n",
    "              panel.grid.minor = element_blank(),\n",
    "              # Bordes dl Gráfico de color Blanco\n",
    "              panel.border = element_blank(), panel.background = element_blank(),\n",
    "              # Formato Título: Tamaños 14 y Negrita\n",
    "              plot.title = element_text(size = 14, face = \"bold\"),\n",
    "              # Eje X de color negro. Tamaño fuente 9\n",
    "              axis.text.x=element_text(colour=\"black\", size = 9),\n",
    "              # Ponemos la leyenda en la parte infrior\n",
    "              legend.position=\"bottom\",\n",
    "              # Texto de la leyenda n azul. Tamaño de fuent 9\n",
    "              legend.text=element_text(colour=\"blue\",size=9),\n",
    "              # Eje Y de color negro. Tamaño fuente 9\n",
    "              axis.text.y=element_text(colour=\"black\", size = 9))+\n",
    "\n",
    "# Mostrar la Mediana\n",
    "      geom_vline(aes(xintercept=median(total_test$test),\n",
    "                 color=\"mediana\"), linetype=\"dashed\",\n",
    "             size=1) +\n",
    "# Mostrar la Media\n",
    "      geom_vline(aes(xintercept = mean(total_test$test),\n",
    "                 color=\"media\"), linetype=\"dashed\",\n",
    "             size=1) +\n",
    "# Mostrar el Cuantil 25\n",
    "      geom_vline(aes(xintercept = quantile(total_test$test, 0.25),\n",
    "                 color=\"cuantil_25\"), linetype=\"dashed\",\n",
    "             size=1) +\n",
    "# Mostrar el Cuantil 75\n",
    "      geom_vline(aes(xintercept = quantile(total_test$test, 0.75),\n",
    "                 color=\"cuantil_75\"), linetype=\"dashed\",\n",
    "             size=1) +\n",
    "# Nombre d la Leyenda ·Estadísticas\". Colores de las medidas: Medina (Azul), Media (Rojo), Cuantil 25 (Negro)\n",
    "# y Cuantil 75 (Naranja) \n",
    "        scale_color_manual(name = \"Estadísticas\", values = c(mediana = \"blue\", media = \"red\", cuantil_25 = \"black\", \n",
    "                                                     cuantil_75 = \"orange\"))+\n",
    "# Texto del eje X \"TOTAL CASOS CONFIMADOS POR PROVINCIA\" y del eje Y \"Nº DE CASOS\"\n",
    "  xlab(\"TEST REALIZADOS\") + ylab(\"Nº DE CASOS\")"
   ]
  },
  {
   "cell_type": "code",
   "execution_count": 46,
   "metadata": {},
   "outputs": [
    {
     "name": "stderr",
     "output_type": "stream",
     "text": [
      "`stat_bin()` using `bins = 30`. Pick better value with `binwidth`.\n"
     ]
    },
    {
     "data": {
      "image/png": "[encoded data removed]",
      "text/plain": [
       "plot without title"
      ]
     },
     "metadata": {},
     "output_type": "display_data"
    }
   ],
   "source": [
    "# Histogram with density plot\n",
    "ggplot(total_test, aes(x=total_test$test)) + \n",
    "     geom_histogram(aes(y=..density..), colour=\"black\", fill=\"lightcyan2\")+\n",
    "     geom_density(alpha=.2, fill=\"#FF6666\") +\n",
    "     geom_vline(aes(xintercept=median(total_test$test)),color=\"black\", linetype=\"dashed\") + \n",
    "     geom_vline(aes(xintercept=mean(total_test$test)),color=\"red\", linetype=\"dashed\") +\n",
    "     labs(title=\"TOTAL TEST REALIZADOS POR MES\") + xlab(\"Nº DE CASOS\")"
   ]
  },
  {
   "cell_type": "code",
   "execution_count": 30,
   "metadata": {},
   "outputs": [
    {
     "data": {
      "image/png": "[encoded data removed]",
      "text/plain": [
       "plot without title"
      ]
     },
     "metadata": {},
     "output_type": "display_data"
    }
   ],
   "source": [
    "# Creamos dos variables para poner el color de relleno de la caja, y el color del borde de la caja Estas variables\n",
    "# serán pasadas en la geometría\n",
    "relleno <- \"lightblue3\"\n",
    "linea <- \"midnightblue\"\n",
    "\n",
    "bp2 <- ggplot(total_test, aes(x = \"\", y = total_test$test)) +\n",
    "        # Mostramos los Outliers con forma de cuadrado, y de color verde\n",
    "        geom_boxplot(fill = relleno, colour = linea,outlier.colour = \"green\", outlier.size = 6,outlier.shape = 22) +\n",
    "        scale_y_continuous(name = \"Nº DE CASOS\") + \n",
    "        scale_x_discrete(name = \"TEST REALIZADOS\") +\n",
    "        ggtitle(\"TOTAL TEST REALIZADOS POR MES\") +\n",
    "        # Ponemos color Negro a los ejes X e Y\n",
    "        theme(axis.line.x = element_line(size = 0.5, colour = \"black\"),\n",
    "              axis.line.y = element_line(size = 0.5, colour = \"black\"),\n",
    "              axis.title = element_text(size = 12),\n",
    "              # Ponemos título al Gráficco\n",
    "              legend.text = element_text(size = 9),\n",
    "              legend.title=element_text(face = \"bold\", size = 9),\n",
    "              # Mostramos la escala mayor\n",
    "              panel.grid.major = element_line(colour = \"snow3\"),\n",
    "              panel.grid.minor = element_blank(),\n",
    "              panel.border = element_blank(),\n",
    "              #Ponrmos Blanco como color de fondo del Gráfico\n",
    "              panel.background = element_blank()) +\n",
    "          # Mostramos los valores de los Anchos de Sépalo\n",
    "          geom_text(aes(label=total_test$test),hjust=0,nudge_x=0.05,color=\"blue\",size=3)\n",
    "\n",
    "bp2"
   ]
  },
  {
   "cell_type": "markdown",
   "metadata": {},
   "source": [
    "# Medidas de Dispersión"
   ]
  },
  {
   "cell_type": "code",
   "execution_count": 31,
   "metadata": {},
   "outputs": [
    {
     "data": {
      "text/html": [
       "17876680826.8"
      ],
      "text/latex": [
       "17876680826.8"
      ],
      "text/markdown": [
       "17876680826.8"
      ],
      "text/plain": [
       "[1] 17876680827"
      ]
     },
     "metadata": {},
     "output_type": "display_data"
    }
   ],
   "source": [
    "# Cálculo de la varianza\n",
    "var(total_test$test)"
   ]
  },
  {
   "cell_type": "code",
   "execution_count": 32,
   "metadata": {},
   "outputs": [
    {
     "data": {
      "text/html": [
       "133703.705359276"
      ],
      "text/latex": [
       "133703.705359276"
      ],
      "text/markdown": [
       "133703.705359276"
      ],
      "text/plain": [
       "[1] 133703.7"
      ]
     },
     "metadata": {},
     "output_type": "display_data"
    }
   ],
   "source": [
    "# Cálculo de la desviación Típica\n",
    "sd(total_test$test)"
   ]
  },
  {
   "cell_type": "markdown",
   "metadata": {},
   "source": [
    "# Medidas de Forma"
   ]
  },
  {
   "cell_type": "code",
   "execution_count": 33,
   "metadata": {},
   "outputs": [],
   "source": [
    "# install.packages(\"e1071\")\n",
    "library(e1071)"
   ]
  },
  {
   "cell_type": "code",
   "execution_count": 34,
   "metadata": {},
   "outputs": [
    {
     "data": {
      "text/html": [
       "-0.248801967530575"
      ],
      "text/latex": [
       "-0.248801967530575"
      ],
      "text/markdown": [
       "-0.248801967530575"
      ],
      "text/plain": [
       "[1] -0.248802"
      ]
     },
     "metadata": {},
     "output_type": "display_data"
    }
   ],
   "source": [
    "# Cálculo del Coeficiente de Simetría\n",
    "skewness(total_test$test)"
   ]
  },
  {
   "cell_type": "markdown",
   "metadata": {},
   "source": [
    "Tenemos simetría <= 0 aunque muy cercana al 0, lo cual nos informa de que la distribución, sería practicamnt normal, con un pequeño sesgo."
   ]
  },
  {
   "cell_type": "code",
   "execution_count": 35,
   "metadata": {},
   "outputs": [
    {
     "data": {
      "text/plain": [
       "\n",
       "\tShapiro-Wilk normality test\n",
       "\n",
       "data:  total_test$test\n",
       "W = 0.92909, p-value = 0.5902\n"
      ]
     },
     "metadata": {},
     "output_type": "display_data"
    }
   ],
   "source": [
    "#Prueba de Shapiro Wilk (muestras pequeñas)\n",
    "shapiro.test(total_test$test)"
   ]
  },
  {
   "cell_type": "code",
   "execution_count": 47,
   "metadata": {},
   "outputs": [
    {
     "data": {
      "text/html": [
       "-1.98548843968838"
      ],
      "text/latex": [
       "-1.98548843968838"
      ],
      "text/markdown": [
       "-1.98548843968838"
      ],
      "text/plain": [
       "[1] -1.985488"
      ]
     },
     "metadata": {},
     "output_type": "display_data"
    }
   ],
   "source": [
    "# Cálculo de la Kurtosis\n",
    "kurtosis(total_test$test)"
   ]
  },
  {
   "cell_type": "markdown",
   "metadata": {},
   "source": [
    "## DATOS METEOREOLÓGICOS - FICHERO WEATHER.CSV"
   ]
  },
  {
   "cell_type": "code",
   "execution_count": 49,
   "metadata": {
    "scrolled": true
   },
   "outputs": [
    {
     "data": {
      "text/html": [
       "<table>\n",
       "<thead><tr><th scope=col>code</th><th scope=col>province</th><th scope=col>date</th><th scope=col>avg_temp</th><th scope=col>min_temp</th><th scope=col>max_temp</th><th scope=col>precipitation</th><th scope=col>max_wind_speed</th><th scope=col>most_wind_direction</th><th scope=col>avg_relative_humidity</th></tr></thead>\n",
       "<tbody>\n",
       "\t<tr><td>10000     </td><td>Seoul     </td><td>2016-01-01</td><td>1.2       </td><td>-3.3      </td><td> 4.0      </td><td>0         </td><td>3.5       </td><td> 90       </td><td>73.0      </td></tr>\n",
       "\t<tr><td>11000     </td><td>Busan     </td><td>2016-01-01</td><td>5.3       </td><td> 1.1      </td><td>10.9      </td><td>0         </td><td>7.4       </td><td>340       </td><td>52.1      </td></tr>\n",
       "\t<tr><td>12000     </td><td>Daegu     </td><td>2016-01-01</td><td>1.7       </td><td>-4.0      </td><td> 8.0      </td><td>0         </td><td>3.7       </td><td>270       </td><td>70.5      </td></tr>\n",
       "\t<tr><td>13000     </td><td>Gwangju   </td><td>2016-01-01</td><td>3.2       </td><td>-1.5      </td><td> 8.1      </td><td>0         </td><td>2.7       </td><td>230       </td><td>73.1      </td></tr>\n",
       "\t<tr><td>14000     </td><td>Incheon   </td><td>2016-01-01</td><td>3.1       </td><td>-0.4      </td><td> 5.7      </td><td>0         </td><td>5.3       </td><td>180       </td><td>83.9      </td></tr>\n",
       "\t<tr><td>15000     </td><td>Daejeon   </td><td>2016-01-01</td><td>1.6       </td><td>-4.2      </td><td> 7.7      </td><td>0         </td><td>4.4       </td><td>320       </td><td>77.4      </td></tr>\n",
       "</tbody>\n",
       "</table>\n"
      ],
      "text/latex": [
       "\\begin{tabular}{r|llllllllll}\n",
       " code & province & date & avg\\_temp & min\\_temp & max\\_temp & precipitation & max\\_wind\\_speed & most\\_wind\\_direction & avg\\_relative\\_humidity\\\\\n",
       "\\hline\n",
       "\t 10000      & Seoul      & 2016-01-01 & 1.2        & -3.3       &  4.0       & 0          & 3.5        &  90        & 73.0      \\\\\n",
       "\t 11000      & Busan      & 2016-01-01 & 5.3        &  1.1       & 10.9       & 0          & 7.4        & 340        & 52.1      \\\\\n",
       "\t 12000      & Daegu      & 2016-01-01 & 1.7        & -4.0       &  8.0       & 0          & 3.7        & 270        & 70.5      \\\\\n",
       "\t 13000      & Gwangju    & 2016-01-01 & 3.2        & -1.5       &  8.1       & 0          & 2.7        & 230        & 73.1      \\\\\n",
       "\t 14000      & Incheon    & 2016-01-01 & 3.1        & -0.4       &  5.7       & 0          & 5.3        & 180        & 83.9      \\\\\n",
       "\t 15000      & Daejeon    & 2016-01-01 & 1.6        & -4.2       &  7.7       & 0          & 4.4        & 320        & 77.4      \\\\\n",
       "\\end{tabular}\n"
      ],
      "text/markdown": [
       "\n",
       "| code | province | date | avg_temp | min_temp | max_temp | precipitation | max_wind_speed | most_wind_direction | avg_relative_humidity |\n",
       "|---|---|---|---|---|---|---|---|---|---|\n",
       "| 10000      | Seoul      | 2016-01-01 | 1.2        | -3.3       |  4.0       | 0          | 3.5        |  90        | 73.0       |\n",
       "| 11000      | Busan      | 2016-01-01 | 5.3        |  1.1       | 10.9       | 0          | 7.4        | 340        | 52.1       |\n",
       "| 12000      | Daegu      | 2016-01-01 | 1.7        | -4.0       |  8.0       | 0          | 3.7        | 270        | 70.5       |\n",
       "| 13000      | Gwangju    | 2016-01-01 | 3.2        | -1.5       |  8.1       | 0          | 2.7        | 230        | 73.1       |\n",
       "| 14000      | Incheon    | 2016-01-01 | 3.1        | -0.4       |  5.7       | 0          | 5.3        | 180        | 83.9       |\n",
       "| 15000      | Daejeon    | 2016-01-01 | 1.6        | -4.2       |  7.7       | 0          | 4.4        | 320        | 77.4       |\n",
       "\n"
      ],
      "text/plain": [
       "  code  province date       avg_temp min_temp max_temp precipitation\n",
       "1 10000 Seoul    2016-01-01 1.2      -3.3      4.0     0            \n",
       "2 11000 Busan    2016-01-01 5.3       1.1     10.9     0            \n",
       "3 12000 Daegu    2016-01-01 1.7      -4.0      8.0     0            \n",
       "4 13000 Gwangju  2016-01-01 3.2      -1.5      8.1     0            \n",
       "5 14000 Incheon  2016-01-01 3.1      -0.4      5.7     0            \n",
       "6 15000 Daejeon  2016-01-01 1.6      -4.2      7.7     0            \n",
       "  max_wind_speed most_wind_direction avg_relative_humidity\n",
       "1 3.5             90                 73.0                 \n",
       "2 7.4            340                 52.1                 \n",
       "3 3.7            270                 70.5                 \n",
       "4 2.7            230                 73.1                 \n",
       "5 5.3            180                 83.9                 \n",
       "6 4.4            320                 77.4                 "
      ]
     },
     "metadata": {},
     "output_type": "display_data"
    }
   ],
   "source": [
    "# importar datos fechas_temp\n",
    "total_meteoro <- read.table('C:\\\\Users\\\\garcipab\\\\COVID-19\\\\datasets\\\\weather.csv', skip = 0, header = TRUE, sep =\",\")\n",
    "head(total_meteoro)"
   ]
  },
  {
   "cell_type": "code",
   "execution_count": 50,
   "metadata": {},
   "outputs": [
    {
     "name": "stdout",
     "output_type": "stream",
     "text": [
      "'data.frame':\t25807 obs. of  10 variables:\n",
      " $ code                 : int  10000 11000 12000 13000 14000 15000 16000 20000 30000 40000 ...\n",
      " $ province             : Factor w/ 16 levels \"Busan\",\"Chungcheongbuk-do\",..: 15 1 4 7 11 5 16 8 6 2 ...\n",
      " $ date                 : Factor w/ 1613 levels \"2016-01-01\",\"2016-01-02\",..: 1 1 1 1 1 1 1 1 1 1 ...\n",
      " $ avg_temp             : num  1.2 5.3 1.7 3.2 3.1 1.6 4 1.6 5.1 -1 ...\n",
      " $ min_temp             : num  -3.3 1.1 -4 -1.5 -0.4 -4.2 -1.6 -4.2 2.1 -5.9 ...\n",
      " $ max_temp             : num  4 10.9 8 8.1 5.7 7.7 12 5.7 8.9 4.1 ...\n",
      " $ precipitation        : num  0 0 0 0 0 0 0 0 0 0 ...\n",
      " $ max_wind_speed       : num  3.5 7.4 3.7 2.7 5.3 4.4 2.7 2.1 9.6 1.6 ...\n",
      " $ most_wind_direction  : int  90 340 270 230 180 320 320 180 290 110 ...\n",
      " $ avg_relative_humidity: num  73 52.1 70.5 73.1 83.9 77.4 53.3 80.1 33 79.4 ...\n"
     ]
    }
   ],
   "source": [
    "str(total_meteoro)"
   ]
  },
  {
   "cell_type": "markdown",
   "metadata": {},
   "source": [
    "Ver la cantidad de valores NaN en las columnas"
   ]
  },
  {
   "cell_type": "code",
   "execution_count": 51,
   "metadata": {},
   "outputs": [
    {
     "data": {
      "text/html": [
       "<table>\n",
       "<thead><tr><th scope=col>code</th><th scope=col>province</th><th scope=col>date</th><th scope=col>avg_temp</th><th scope=col>min_temp</th><th scope=col>max_temp</th><th scope=col>precipitation</th><th scope=col>max_wind_speed</th><th scope=col>most_wind_direction</th><th scope=col>avg_relative_humidity</th></tr></thead>\n",
       "<tbody>\n",
       "\t<tr><td>0 </td><td>0 </td><td>0 </td><td>15</td><td>5 </td><td>3 </td><td>0 </td><td>9 </td><td>29</td><td>20</td></tr>\n",
       "</tbody>\n",
       "</table>\n"
      ],
      "text/latex": [
       "\\begin{tabular}{r|llllllllll}\n",
       " code & province & date & avg\\_temp & min\\_temp & max\\_temp & precipitation & max\\_wind\\_speed & most\\_wind\\_direction & avg\\_relative\\_humidity\\\\\n",
       "\\hline\n",
       "\t 0  & 0  & 0  & 15 & 5  & 3  & 0  & 9  & 29 & 20\\\\\n",
       "\\end{tabular}\n"
      ],
      "text/markdown": [
       "\n",
       "| code | province | date | avg_temp | min_temp | max_temp | precipitation | max_wind_speed | most_wind_direction | avg_relative_humidity |\n",
       "|---|---|---|---|---|---|---|---|---|---|\n",
       "| 0  | 0  | 0  | 15 | 5  | 3  | 0  | 9  | 29 | 20 |\n",
       "\n"
      ],
      "text/plain": [
       "  code province date avg_temp min_temp max_temp precipitation max_wind_speed\n",
       "1 0    0        0    15       5        3        0             9             \n",
       "  most_wind_direction avg_relative_humidity\n",
       "1 29                  20                   "
      ]
     },
     "metadata": {},
     "output_type": "display_data"
    }
   ],
   "source": [
    "summarise_all(total_meteoro, funs(sum(is.na(.))))"
   ]
  },
  {
   "cell_type": "markdown",
   "metadata": {},
   "source": [
    "Para nustro análisis vamos a borrrar las 15 filas de la columna **avg_temp** con valors NaN"
   ]
  },
  {
   "cell_type": "code",
   "execution_count": 52,
   "metadata": {},
   "outputs": [
    {
     "data": {
      "text/html": [
       "<table>\n",
       "<thead><tr><th scope=col>code</th><th scope=col>province</th><th scope=col>date</th><th scope=col>avg_temp</th><th scope=col>min_temp</th><th scope=col>max_temp</th><th scope=col>precipitation</th><th scope=col>max_wind_speed</th><th scope=col>most_wind_direction</th><th scope=col>avg_relative_humidity</th></tr></thead>\n",
       "<tbody>\n",
       "\t<tr><td>10000      </td><td>Seoul      </td><td>2016-01-01 </td><td>1.2        </td><td>-3.3       </td><td> 4.0       </td><td>0          </td><td>3.5        </td><td> 90        </td><td>73.0       </td></tr>\n",
       "\t<tr><td>11000      </td><td>Busan      </td><td>2016-01-01 </td><td>5.3        </td><td> 1.1       </td><td>10.9       </td><td>0          </td><td>7.4        </td><td>340        </td><td>52.1       </td></tr>\n",
       "\t<tr><td>12000      </td><td>Daegu      </td><td>2016-01-01 </td><td>1.7        </td><td>-4.0       </td><td> 8.0       </td><td>0          </td><td>3.7        </td><td>270        </td><td>70.5       </td></tr>\n",
       "\t<tr><td>13000      </td><td>Gwangju    </td><td>2016-01-01 </td><td>3.2        </td><td>-1.5       </td><td> 8.1       </td><td>0          </td><td>2.7        </td><td>230        </td><td>73.1       </td></tr>\n",
       "\t<tr><td>14000      </td><td>Incheon    </td><td>2016-01-01 </td><td>3.1        </td><td>-0.4       </td><td> 5.7       </td><td>0          </td><td>5.3        </td><td>180        </td><td>83.9       </td></tr>\n",
       "\t<tr><td>15000      </td><td>Daejeon    </td><td>2016-01-01 </td><td>1.6        </td><td>-4.2       </td><td> 7.7       </td><td>0          </td><td>4.4        </td><td>320        </td><td>77.4       </td></tr>\n",
       "\t<tr><td>16000      </td><td>Ulsan      </td><td>2016-01-01 </td><td>4.0        </td><td>-1.6       </td><td>12.0       </td><td>0          </td><td>2.7        </td><td>320        </td><td>53.3       </td></tr>\n",
       "\t<tr><td>20000      </td><td>Gyeonggi-do</td><td>2016-01-01 </td><td>1.6        </td><td>-4.2       </td><td> 5.7       </td><td>0          </td><td>2.1        </td><td>180        </td><td>80.1       </td></tr>\n",
       "</tbody>\n",
       "</table>\n"
      ],
      "text/latex": [
       "\\begin{tabular}{r|llllllllll}\n",
       " code & province & date & avg\\_temp & min\\_temp & max\\_temp & precipitation & max\\_wind\\_speed & most\\_wind\\_direction & avg\\_relative\\_humidity\\\\\n",
       "\\hline\n",
       "\t 10000       & Seoul       & 2016-01-01  & 1.2         & -3.3        &  4.0        & 0           & 3.5         &  90         & 73.0       \\\\\n",
       "\t 11000       & Busan       & 2016-01-01  & 5.3         &  1.1        & 10.9        & 0           & 7.4         & 340         & 52.1       \\\\\n",
       "\t 12000       & Daegu       & 2016-01-01  & 1.7         & -4.0        &  8.0        & 0           & 3.7         & 270         & 70.5       \\\\\n",
       "\t 13000       & Gwangju     & 2016-01-01  & 3.2         & -1.5        &  8.1        & 0           & 2.7         & 230         & 73.1       \\\\\n",
       "\t 14000       & Incheon     & 2016-01-01  & 3.1         & -0.4        &  5.7        & 0           & 5.3         & 180         & 83.9       \\\\\n",
       "\t 15000       & Daejeon     & 2016-01-01  & 1.6         & -4.2        &  7.7        & 0           & 4.4         & 320         & 77.4       \\\\\n",
       "\t 16000       & Ulsan       & 2016-01-01  & 4.0         & -1.6        & 12.0        & 0           & 2.7         & 320         & 53.3       \\\\\n",
       "\t 20000       & Gyeonggi-do & 2016-01-01  & 1.6         & -4.2        &  5.7        & 0           & 2.1         & 180         & 80.1       \\\\\n",
       "\\end{tabular}\n"
      ],
      "text/markdown": [
       "\n",
       "| code | province | date | avg_temp | min_temp | max_temp | precipitation | max_wind_speed | most_wind_direction | avg_relative_humidity |\n",
       "|---|---|---|---|---|---|---|---|---|---|\n",
       "| 10000       | Seoul       | 2016-01-01  | 1.2         | -3.3        |  4.0        | 0           | 3.5         |  90         | 73.0        |\n",
       "| 11000       | Busan       | 2016-01-01  | 5.3         |  1.1        | 10.9        | 0           | 7.4         | 340         | 52.1        |\n",
       "| 12000       | Daegu       | 2016-01-01  | 1.7         | -4.0        |  8.0        | 0           | 3.7         | 270         | 70.5        |\n",
       "| 13000       | Gwangju     | 2016-01-01  | 3.2         | -1.5        |  8.1        | 0           | 2.7         | 230         | 73.1        |\n",
       "| 14000       | Incheon     | 2016-01-01  | 3.1         | -0.4        |  5.7        | 0           | 5.3         | 180         | 83.9        |\n",
       "| 15000       | Daejeon     | 2016-01-01  | 1.6         | -4.2        |  7.7        | 0           | 4.4         | 320         | 77.4        |\n",
       "| 16000       | Ulsan       | 2016-01-01  | 4.0         | -1.6        | 12.0        | 0           | 2.7         | 320         | 53.3        |\n",
       "| 20000       | Gyeonggi-do | 2016-01-01  | 1.6         | -4.2        |  5.7        | 0           | 2.1         | 180         | 80.1        |\n",
       "\n"
      ],
      "text/plain": [
       "  code  province    date       avg_temp min_temp max_temp precipitation\n",
       "1 10000 Seoul       2016-01-01 1.2      -3.3      4.0     0            \n",
       "2 11000 Busan       2016-01-01 5.3       1.1     10.9     0            \n",
       "3 12000 Daegu       2016-01-01 1.7      -4.0      8.0     0            \n",
       "4 13000 Gwangju     2016-01-01 3.2      -1.5      8.1     0            \n",
       "5 14000 Incheon     2016-01-01 3.1      -0.4      5.7     0            \n",
       "6 15000 Daejeon     2016-01-01 1.6      -4.2      7.7     0            \n",
       "7 16000 Ulsan       2016-01-01 4.0      -1.6     12.0     0            \n",
       "8 20000 Gyeonggi-do 2016-01-01 1.6      -4.2      5.7     0            \n",
       "  max_wind_speed most_wind_direction avg_relative_humidity\n",
       "1 3.5             90                 73.0                 \n",
       "2 7.4            340                 52.1                 \n",
       "3 3.7            270                 70.5                 \n",
       "4 2.7            230                 73.1                 \n",
       "5 5.3            180                 83.9                 \n",
       "6 4.4            320                 77.4                 \n",
       "7 2.7            320                 53.3                 \n",
       "8 2.1            180                 80.1                 "
      ]
     },
     "metadata": {},
     "output_type": "display_data"
    }
   ],
   "source": [
    "total_meteoro <- total_meteoro[!is.na(total_meteoro$avg_temp),]\n",
    "head(total_meteoro, n= 8)"
   ]
  },
  {
   "cell_type": "markdown",
   "metadata": {},
   "source": [
    "# Medidas de Tendencia Central"
   ]
  },
  {
   "cell_type": "code",
   "execution_count": 53,
   "metadata": {},
   "outputs": [
    {
     "data": {
      "text/plain": [
       "      code                   province             date          avg_temp     \n",
       " Min.   :10000   Busan           : 1613   2016-01-01:   16   Min.   :-14.80  \n",
       " 1st Qu.:13000   Daejeon         : 1613   2016-01-02:   16   1st Qu.:  5.90  \n",
       " Median :20000   Gangwon-do      : 1613   2016-01-03:   16   Median : 14.30  \n",
       " Mean   :32117   Gwangju         : 1613   2016-01-04:   16   Mean   : 13.69  \n",
       " 3rd Qu.:50000   Gyeonggi-do     : 1613   2016-01-05:   16   3rd Qu.: 21.70  \n",
       " Max.   :70000   Gyeongsangnam-do: 1613   2016-01-06:   16   Max.   : 33.90  \n",
       "                 (Other)         :16114   (Other)   :25696                   \n",
       "    min_temp          max_temp      precipitation     max_wind_speed  \n",
       " Min.   :-19.200   Min.   :-11.90   Min.   :  0.000   Min.   : 1.000  \n",
       " 1st Qu.:  1.300   1st Qu.: 10.70   1st Qu.:  0.000   1st Qu.: 3.800  \n",
       " Median :  9.700   Median : 19.50   Median :  0.000   Median : 4.700  \n",
       " Mean   :  9.496   Mean   : 18.61   Mean   :  1.411   Mean   : 5.117  \n",
       " 3rd Qu.: 17.900   3rd Qu.: 26.60   3rd Qu.:  0.000   3rd Qu.: 6.000  \n",
       " Max.   : 30.300   Max.   : 40.00   Max.   :266.000   Max.   :29.400  \n",
       " NA's   :1         NA's   :2                          NA's   :8       \n",
       " most_wind_direction avg_relative_humidity\n",
       " Min.   : 20         Min.   : 10.40       \n",
       " 1st Qu.: 90         1st Qu.: 53.40       \n",
       " Median :230         Median : 66.60       \n",
       " Mean   :196         Mean   : 65.55       \n",
       " 3rd Qu.:290         3rd Qu.: 78.60       \n",
       " Max.   :360         Max.   :100.00       \n",
       " NA's   :18          NA's   :7            "
      ]
     },
     "metadata": {},
     "output_type": "display_data"
    }
   ],
   "source": [
    "summary(total_meteoro)"
   ]
  },
  {
   "cell_type": "code",
   "execution_count": 54,
   "metadata": {},
   "outputs": [],
   "source": [
    "# Función creada por el usuario para el cálculo de la Moda\n",
    "moda <- function(v) {\n",
    "uniqv <- unique(v)\n",
    "uniqv[which.max(tabulate(match(v, uniqv)))]}"
   ]
  },
  {
   "cell_type": "code",
   "execution_count": 55,
   "metadata": {},
   "outputs": [
    {
     "data": {
      "text/html": [
       "21.9"
      ],
      "text/latex": [
       "21.9"
      ],
      "text/markdown": [
       "21.9"
      ],
      "text/plain": [
       "[1] 21.9"
      ]
     },
     "metadata": {},
     "output_type": "display_data"
    }
   ],
   "source": [
    "# Cálculo de la Moda\n",
    "moda(total_meteoro$avg_temp)"
   ]
  },
  {
   "cell_type": "code",
   "execution_count": 58,
   "metadata": {},
   "outputs": [
    {
     "data": {
      "image/png": "[encoded data removed]",
      "text/plain": [
       "Plot with title \"Histogram of total_meteoro$avg_temp\""
      ]
     },
     "metadata": {},
     "output_type": "display_data"
    }
   ],
   "source": [
    "# Creación del Histograma\n",
    "hist(total_meteoro$avg_temp)"
   ]
  },
  {
   "cell_type": "code",
   "execution_count": 56,
   "metadata": {},
   "outputs": [
    {
     "name": "stderr",
     "output_type": "stream",
     "text": [
      "`stat_bin()` using `bins = 30`. Pick better value with `binwidth`.\n"
     ]
    },
    {
     "data": {
      "image/png": "[encoded data removed]",
      "text/plain": [
       "plot without title"
      ]
     },
     "metadata": {},
     "output_type": "display_data"
    }
   ],
   "source": [
    "RellenoBarras <- \"lightcyan2\"\n",
    "LineaBarras <- \"black\"\n",
    "\n",
    "ggplot(aes(x = total_meteoro$avg_temp), data = total_meteoro) + \n",
    "      geom_histogram(colour = LineaBarras, fill = RellenoBarras) +\n",
    "      labs(title=\"PROMEDIO TEMPERATURA\") +\n",
    "      theme(axis.line = element_line(size=1, colour = \"black\"),\n",
    "              # Líneas de división mayores de la escala de los ejes del Gráfico de color azul\n",
    "              panel.grid.major = element_line(colour = \"darkolivegreen4\"),\n",
    "              # Líneas de división menores de la escala de los ejes del Gráfico de color blanco\n",
    "              panel.grid.minor = element_blank(),\n",
    "              # Bordes dl Gráfico de color Blanco\n",
    "              panel.border = element_blank(), panel.background = element_blank(),\n",
    "              # Formato Título: Tamaños 14 y Negrita\n",
    "              plot.title = element_text(size = 14, face = \"bold\"),\n",
    "              # Eje X de color negro. Tamaño fuente 9\n",
    "              axis.text.x=element_text(colour=\"black\", size = 9),\n",
    "              # Ponemos la leyenda en la parte infrior\n",
    "              legend.position=\"bottom\",\n",
    "              # Texto de la leyenda n azul. Tamaño de fuent 9\n",
    "              legend.text=element_text(colour=\"blue\",size=9),\n",
    "              # Eje Y de color negro. Tamaño fuente 9\n",
    "              axis.text.y=element_text(colour=\"black\", size = 9))+\n",
    "\n",
    "# Mostrar la Mediana\n",
    "      geom_vline(aes(xintercept=median(total_meteoro$avg_temp),\n",
    "                 color=\"mediana\"), linetype=\"dashed\",\n",
    "             size=1) +\n",
    "# Mostrar la Media\n",
    "      geom_vline(aes(xintercept = mean(total_meteoro$avg_temp),\n",
    "                 color=\"media\"), linetype=\"dashed\",\n",
    "             size=1) +\n",
    "# Mostrar el Cuantil 25\n",
    "      geom_vline(aes(xintercept = quantile(total_meteoro$avg_temp, 0.25),\n",
    "                 color=\"cuantil_25\"), linetype=\"dashed\",\n",
    "             size=1) +\n",
    "# Mostrar el Cuantil 75\n",
    "      geom_vline(aes(xintercept = quantile(total_meteoro$avg_temp, 0.75),\n",
    "                 color=\"cuantil_75\"), linetype=\"dashed\",\n",
    "             size=1) +\n",
    "# Nombre d la Leyenda ·Estadísticas\". Colores de las medidas: Medina (Azul), Media (Rojo), Cuantil 25 (Negro)\n",
    "# y Cuantil 75 (Naranja) \n",
    "        scale_color_manual(name = \"Estadísticas\", values = c(mediana = \"blue\", media = \"red\", cuantil_25 = \"black\", \n",
    "                                                     cuantil_75 = \"orange\"))+\n",
    "# Texto del eje X \"TOTAL CASOS CONFIMADOS POR PROVINCIA\" y del eje Y \"Nº DE CASOS\"\n",
    "  xlab(\"TEMPERATURAS\") + ylab(\"VALORES\")"
   ]
  },
  {
   "cell_type": "code",
   "execution_count": 57,
   "metadata": {},
   "outputs": [
    {
     "name": "stderr",
     "output_type": "stream",
     "text": [
      "`stat_bin()` using `bins = 30`. Pick better value with `binwidth`.\n"
     ]
    },
    {
     "data": {
      "image/png": "[encoded data removed]",
      "text/plain": [
       "plot without title"
      ]
     },
     "metadata": {},
     "output_type": "display_data"
    }
   ],
   "source": [
    "# Histogram with density plot\n",
    "ggplot(total_meteoro, aes(x=total_meteoro$avg_temp)) + \n",
    "     geom_histogram(aes(y=..density..), colour=\"black\", fill=\"lightcyan2\")+\n",
    "     geom_density(alpha=.2, fill=\"#FF6666\") +\n",
    "     geom_vline(aes(xintercept=median(total_meteoro$avg_temp)),color=\"black\", linetype=\"dashed\") + \n",
    "     geom_vline(aes(xintercept=mean(total_meteoro$avg_temp)),color=\"red\", linetype=\"dashed\") +\n",
    "     labs(title=\"TOTAL TEMPERATURAS\") + xlab(\"TEMPERATURAS\")"
   ]
  },
  {
   "cell_type": "code",
   "execution_count": 61,
   "metadata": {},
   "outputs": [
    {
     "data": {
      "image/png": "[encoded data removed]",
      "text/plain": [
       "plot without title"
      ]
     },
     "metadata": {},
     "output_type": "display_data"
    }
   ],
   "source": [
    "# Creamos dos variables para poner el color de relleno de la caja, y el color del borde de la caja Estas variables\n",
    "# serán pasadas en la geometría\n",
    "relleno <- \"lightblue3\"\n",
    "linea <- \"midnightblue\"\n",
    "\n",
    "bp2 <- ggplot(total_meteoro, aes(x = \"\", y = total_meteoro$avg_temp)) +\n",
    "        # Mostramos los Outliers con forma de cuadrado, y de color verde\n",
    "        geom_boxplot(fill = relleno, colour = linea,outlier.colour = \"green\", outlier.size = 6,outlier.shape = 22) +\n",
    "        scale_y_continuous(name = \"VALORES\") + \n",
    "        scale_x_discrete(name = \"TEMPERATURAS\") +\n",
    "        ggtitle(\"TOTAL TEMPERATURAS\") +\n",
    "        # Ponemos color Negro a los ejes X e Y\n",
    "        theme(axis.line.x = element_line(size = 0.5, colour = \"black\"),\n",
    "              axis.line.y = element_line(size = 0.5, colour = \"black\"),\n",
    "              axis.title = element_text(size = 12),\n",
    "              # Ponemos título al Gráficco\n",
    "              legend.text = element_text(size = 9),\n",
    "              legend.title=element_text(face = \"bold\", size = 9),\n",
    "              # Mostramos la escala mayor\n",
    "              panel.grid.major = element_line(colour = \"snow3\"),\n",
    "              panel.grid.minor = element_blank(),\n",
    "              panel.border = element_blank(),\n",
    "              #Ponrmos Blanco como color de fondo del Gráfico\n",
    "              panel.background = element_blank()) +\n",
    "          # Mostramos los valores de los Anchos de Sépalo\n",
    "          geom_text(aes(label=total_meteoro$avg_temp),hjust=0,nudge_x=0.05,color=\"blue\",size=3)\n",
    "\n",
    "bp2"
   ]
  },
  {
   "cell_type": "markdown",
   "metadata": {},
   "source": [
    "# Medidas de Dispersión"
   ]
  },
  {
   "cell_type": "code",
   "execution_count": 62,
   "metadata": {},
   "outputs": [
    {
     "data": {
      "text/html": [
       "90.6207993074315"
      ],
      "text/latex": [
       "90.6207993074315"
      ],
      "text/markdown": [
       "90.6207993074315"
      ],
      "text/plain": [
       "[1] 90.6208"
      ]
     },
     "metadata": {},
     "output_type": "display_data"
    }
   ],
   "source": [
    "# Cálculo de la varianza\n",
    "var(total_meteoro$avg_temp)"
   ]
  },
  {
   "cell_type": "code",
   "execution_count": 63,
   "metadata": {},
   "outputs": [
    {
     "data": {
      "text/html": [
       "9.51949574859044"
      ],
      "text/latex": [
       "9.51949574859044"
      ],
      "text/markdown": [
       "9.51949574859044"
      ],
      "text/plain": [
       "[1] 9.519496"
      ]
     },
     "metadata": {},
     "output_type": "display_data"
    }
   ],
   "source": [
    "# Cálculo de la desviación Típica\n",
    "sd(total_meteoro$avg_temp)"
   ]
  },
  {
   "cell_type": "markdown",
   "metadata": {},
   "source": [
    "# Medidas de Forma"
   ]
  },
  {
   "cell_type": "code",
   "execution_count": 64,
   "metadata": {},
   "outputs": [],
   "source": [
    "# install.packages(\"e1071\")\n",
    "library(e1071)"
   ]
  },
  {
   "cell_type": "code",
   "execution_count": 65,
   "metadata": {},
   "outputs": [
    {
     "data": {
      "text/html": [
       "-0.16369631670059"
      ],
      "text/latex": [
       "-0.16369631670059"
      ],
      "text/markdown": [
       "-0.16369631670059"
      ],
      "text/plain": [
       "[1] -0.1636963"
      ]
     },
     "metadata": {},
     "output_type": "display_data"
    }
   ],
   "source": [
    "# Cálculo del Coeficiente de Simetría\n",
    "skewness(total_meteoro$avg_temp)"
   ]
  },
  {
   "cell_type": "code",
   "execution_count": 66,
   "metadata": {},
   "outputs": [
    {
     "ename": "ERROR",
     "evalue": "Error in shapiro.test(total_meteoro$avg_temp): sample size must be between 3 and 5000\n",
     "output_type": "error",
     "traceback": [
      "Error in shapiro.test(total_meteoro$avg_temp): sample size must be between 3 and 5000\nTraceback:\n",
      "1. shapiro.test(total_meteoro$avg_temp)",
      "2. stop(\"sample size must be between 3 and 5000\")"
     ]
    }
   ],
   "source": [
    "#Prueba de Shapiro Wilk (muestras pequeñas)\n",
    "shapiro.test(total_meteoro$avg_temp)"
   ]
  },
  {
   "cell_type": "code",
   "execution_count": 67,
   "metadata": {},
   "outputs": [
    {
     "data": {
      "text/html": [
       "-0.938722468674296"
      ],
      "text/latex": [
       "-0.938722468674296"
      ],
      "text/markdown": [
       "-0.938722468674296"
      ],
      "text/plain": [
       "[1] -0.9387225"
      ]
     },
     "metadata": {},
     "output_type": "display_data"
    }
   ],
   "source": [
    "# Cálculo de la Kurtosis\n",
    "kurtosis(total_meteoro$avg_temp)"
   ]
  }
 ],
 "metadata": {
  "kernelspec": {
   "display_name": "R",
   "language": "R",
   "name": "ir"
  },
  "language_info": {
   "codemirror_mode": "r",
   "file_extension": ".r",
   "mimetype": "text/x-r-source",
   "name": "R",
   "pygments_lexer": "r",
   "version": "4.1.1"
  }
 },
 "nbformat": 4,
 "nbformat_minor": 2
}
